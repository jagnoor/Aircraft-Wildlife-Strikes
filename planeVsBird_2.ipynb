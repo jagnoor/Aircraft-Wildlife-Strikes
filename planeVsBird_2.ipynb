{
 "cells": [
  {
   "cell_type": "markdown",
   "metadata": {},
   "source": [
    "### Reminder:  Clear output before saving for commit.\n",
    "otherwise merging will suck.\n"
   ]
  },
  {
   "cell_type": "markdown",
   "metadata": {},
   "source": [
    "Main project requirements:\n",
    "  * few plots per question 2 per question 6-8 plots in total\n",
    "  * heading for each q and summary of findings under q\n",
    "  * at least 1 linear regression on at least Q4.\n",
    "  \n"
   ]
  },
  {
   "cell_type": "code",
   "execution_count": null,
   "metadata": {},
   "outputs": [],
   "source": [
    "import matplotlib.pyplot as plt\n",
    "import csv\n",
    "import pandas as pd\n",
    "import numpy as np\n",
    "import seaborn as sns "
   ]
  },
  {
   "cell_type": "code",
   "execution_count": null,
   "metadata": {},
   "outputs": [],
   "source": [
    "file_path = 'Data/database.csv'\n",
    "df = pd.read_csv(file_path, low_memory=False)  #low memory imput to avoid warning message\n",
    "# df.info()\n",
    "# column notes:\n",
    "# Species Quantity values: '1', '2-10', nan, '11-100', 'Over 100' "
   ]
  },
  {
   "cell_type": "code",
   "execution_count": null,
   "metadata": {},
   "outputs": [],
   "source": [
    "subset_df = df[[\"Incident Year\",\"Incident Month\",\"Airport\",\"Airport ID\", \"State\",\"Aircraft\",\"Aircraft Type\", \"Flight Phase\", \"Species Name\",\"Species ID\",\"Species Quantity\"]]\n",
    "subset_df.to_csv(\"Data/data_subset.csv\")\n"
   ]
  },
  {
   "cell_type": "markdown",
   "metadata": {},
   "source": [
    "# Which bird is the most dangerous 1990-2014?"
   ]
  },
  {
   "cell_type": "code",
   "execution_count": null,
   "metadata": {},
   "outputs": [],
   "source": [
    "#removing \"unknown\" bird species, removing partial year data for 2015\n",
    "birdType_df = subset_df[[\"Species Name\",\"Species ID\",\"Species Quantity\"]].loc[(subset_df[\"Species Name\"]!= \"UNKNOWN MEDIUM BIRD\") & (subset_df[\"Species Name\"]!= \"UNKNOWN SMALL BIRD\") \n",
    "                                                                              & (subset_df[\"Species Name\"]!= \"UNKNOWN LARGE BIRD\") & (subset_df[\"Species Name\"]!= \"UNKNOWN BIRD\")\n",
    "                                                                              & (subset_df[\"Incident Year\"]!= 2015)]\n",
    "\n",
    "\n",
    "# todo add labels, pretty up.  add thoughts on results\n",
    "birdCounts = birdType_df[\"Species Name\"].value_counts()\n",
    "\n",
    "y_axis = birdCounts[:10]  \n",
    "x_axis = birdCounts.index[:10]\n",
    "\n",
    "plt.figure(figsize=(10,5))\n",
    "plt.bar(x_axis, y_axis, color = \"green\")\n",
    "plt.tight_layout()  \n",
    "tick_locations = [value for value in x_axis]\n",
    "plt.xticks(tick_locations,birdCounts.index[:10], rotation=\"vertical\")\n",
    "\n",
    "plt.xlabel('Bird Name') # Label the x axis \n",
    "plt.ylabel(\"Number of Bird Strikes \")  # Label the y axis\n",
    "plt.title(\" Which bird is the most dangerous 1990-2014? aka Mourning Dove \")\n",
    "\n",
    "for i in range(len(y_axis)):\n",
    "    plt.annotate(str(y_axis[i]), xy=(x_axis[i],y_axis[i]), ha='center', va='bottom')\n",
    "\n",
    "plt.savefig(\"Images/DangerousMourningDove.png\") # TODO The legend and axis names are put in the saved image.\n",
    "\n",
    "\n",
    "plt.show()\n"
   ]
  },
  {
   "cell_type": "markdown",
   "metadata": {
    "scrolled": true
   },
   "source": [
    "#### Which airport or geographic area is more likely to have a bird/plane strike?\n",
    "    * get fancy add google figure w/heat map possibly\n",
    "    * Graph for states, or stacked one of all airports grouped by state\n"
   ]
  },
  {
   "cell_type": "code",
   "execution_count": null,
   "metadata": {},
   "outputs": [],
   "source": [
    "subset_df"
   ]
  },
  {
   "cell_type": "code",
   "execution_count": null,
   "metadata": {},
   "outputs": [],
   "source": []
  },
  {
   "cell_type": "code",
   "execution_count": null,
   "metadata": {},
   "outputs": [],
   "source": [
    "# Jag's \\/\\/\\/\n",
    "subset_df[\"State\"].value_counts().head(10)\n",
    "\n",
    "# Get the numnber of occurances of each state\n",
    "state_counts = df.State.value_counts()\n",
    "\n",
    "# Split and Save the state names in a variable\n",
    "states = state_counts.index\n",
    "\n",
    "# Split and Save the counts in another variable\n",
    "counts = state_counts.values\n",
    "\n",
    "# Create barplot object\n",
    "barplot = sns.barplot(x=states, y=counts)\n",
    "\n",
    "sns.set(rc={'figure.figsize':(15,6)})\n",
    "barplot = sns.barplot(x=states[:5], y=counts[:5])\n"
   ]
  },
  {
   "cell_type": "code",
   "execution_count": null,
   "metadata": {},
   "outputs": [],
   "source": [
    "# Jag's ^^^\n",
    "\n",
    "\n",
    "\n",
    "\n",
    "# todo add labels, pretty up.  add thoughts on results\n",
    "stateCounts = subset_df[\"State\"].value_counts()\n",
    "stateCounts\n",
    "\n",
    "y_axis = stateCounts[:5]  \n",
    "x_axis = stateCounts.index[:5]\n",
    "\n",
    "plt.figure(figsize=(10,5))\n",
    "plt.bar(x_axis, y_axis, color = \"pink\")\n",
    "plt.tight_layout()  \n",
    "plt.xlabel('State Name')\n",
    "plt.ylabel(\"Number of Bird Strikes\")\n",
    " \n",
    "\n",
    "for i in range(len(y_axis)):\n",
    "    plt.annotate(str(y_axis[i]), xy=(x_axis[i],y_axis[i]), ha='center', va='bottom')\n",
    "\n",
    "\n",
    "plt.show()\n"
   ]
  },
  {
   "cell_type": "code",
   "execution_count": null,
   "metadata": {},
   "outputs": [],
   "source": []
  },
  {
   "cell_type": "code",
   "execution_count": null,
   "metadata": {},
   "outputs": [],
   "source": []
  },
  {
   "cell_type": "code",
   "execution_count": null,
   "metadata": {},
   "outputs": [],
   "source": [
    "# Selom \\/\\/\\/ - Bird strikes that are increasing or decreasing over time? - \n",
    "\n",
    "\n"
   ]
  },
  {
   "cell_type": "code",
   "execution_count": null,
   "metadata": {},
   "outputs": [],
   "source": []
  },
  {
   "cell_type": "code",
   "execution_count": null,
   "metadata": {},
   "outputs": [],
   "source": []
  },
  {
   "cell_type": "code",
   "execution_count": null,
   "metadata": {},
   "outputs": [],
   "source": []
  },
  {
   "cell_type": "code",
   "execution_count": null,
   "metadata": {},
   "outputs": [],
   "source": []
  },
  {
   "cell_type": "code",
   "execution_count": null,
   "metadata": {},
   "outputs": [],
   "source": []
  },
  {
   "cell_type": "code",
   "execution_count": null,
   "metadata": {},
   "outputs": [],
   "source": []
  },
  {
   "cell_type": "code",
   "execution_count": null,
   "metadata": {},
   "outputs": [],
   "source": []
  },
  {
   "cell_type": "code",
   "execution_count": null,
   "metadata": {
    "scrolled": true
   },
   "outputs": [],
   "source": [
    "#TODO need to clean up this file's first cells and delete the duplicate code from file 1 that builds subset df and just read in the subset df\n",
    "# Alyssa  \\/\\/\\/ Which phase of the flight reports the most bird strikes?\n",
    "\n"
   ]
  },
  {
   "cell_type": "code",
   "execution_count": null,
   "metadata": {},
   "outputs": [],
   "source": [
    "#create animal kingdom column in dataframe and populate it for birds/mammals/reptiles involved in airplane incidents.\n",
    "subset_wkingdom_df = subset_df\n",
    "#most things in the list are birds, set everything to bird intially\n",
    "subset_wkingdom_df[\"Animal_Kingdom\"]= \"BIRD\"\n",
    "#mammals have species id that starts w/1\n",
    "subset_wkingdom_df[\"Animal_Kingdom\"]= np.where(subset_wkingdom_df['Species ID'].str.startswith('1',na=False), \"MAMMAL\",subset_wkingdom_df[\"Animal_Kingdom\"])\n",
    "#repiles start with 2\n",
    "subset_wkingdom_df[\"Animal_Kingdom\"]= np.where(subset_wkingdom_df['Species ID'].str.startswith('2',na=False), \"REPTILE\",subset_wkingdom_df[\"Animal_Kingdom\"])\n",
    "subset_wkingdom_df.to_csv(\"Data/data_subset_wKingdom.csv\")\n"
   ]
  },
  {
   "cell_type": "code",
   "execution_count": null,
   "metadata": {},
   "outputs": [],
   "source": [
    "#checkout breakdown as %s\n",
    "subset_wkingdom_df[\"Animal_Kingdom\"].value_counts(normalize=True).mul(100).round(1).astype(str) + '%'"
   ]
  },
  {
   "cell_type": "markdown",
   "metadata": {},
   "source": [
    "## Which phase of the flight reports the most animal strikes?\n",
    "todo add a bunch of stuff to discuss this q here\n",
    "\n",
    "Vocab: \n",
    "Approach – The phase of flight when the pilot intends to land on the runway. There are different types of approaches, depending on whether the pilot is flying VFR or IFR.\n",
    "\n",
    "Climb – The act of increasing aircraft altitude, typically to a designated level.\n",
    "\n",
    "Descent – The act of decreasing aircraft altitude, typically to a designated level.\n",
    "\n",
    "en Route – In air traveling to a destination.\n",
    "\n",
    "landing roll- the movement of an aircraft from touchdown through deceleration to taxi speed or full stop.\n",
    "\n",
    "takeoff run - The distance traveled by an airplane from the commencement of takeoff to the point when it leaves the ground or water.\n",
    "https://epicflightacademy.com/aviation-terminology/"
   ]
  },
  {
   "cell_type": "code",
   "execution_count": null,
   "metadata": {},
   "outputs": [],
   "source": [
    "subset_df[\"Flight Phase\"].value_counts()\n",
    "flightphase= subset_df.groupby(['Flight Phase'])\n",
    "flightphase = flightphase['Incident Year'].count().reset_index().rename(columns={\"Incident Year\":\"Count\"})\n",
    "flightphase = flightphase.sort_values(by='Count',ascending=False).reset_index(drop = True)\n",
    "#print(flightphase.Count.sum())  check count of sum == the total of non-NaN rows for flight phase 118802\n",
    "print(\"Total rows that contain Flight Phase data: \"+str(df[\"Flight Phase\"].notnull().sum()))  #118802 rows have flight phase data\n",
    "#len(df[df[\"Flight Phase\"].isna()])+df[\"Flight Phase\"].notnull().sum() #55302 rows have no flight phase + 118802 = 174104 total rows from orig dataset\n",
    "\n",
    "#the bottom 6 parts of flight make up only ~1% of the total, so pulled those together to new category \"Other\"\n",
    "others_label=flightphase[\"Flight Phase\"][6:]\n",
    "others_total=flightphase.Count[6:].sum()\n",
    "new_row = {'Flight Phase':'OTHER', 'Count':others_total}\n",
    "#append row to the dataframe\n",
    "flightphase = flightphase.append(new_row, ignore_index=True)\n",
    "#reorder to move \"other\" row up to index 6\n",
    "flightphase = flightphase.sort_values(by='Count',ascending=False).reset_index(drop = True)\n"
   ]
  },
  {
   "cell_type": "code",
   "execution_count": null,
   "metadata": {},
   "outputs": [],
   "source": [
    "#figure out how to make others label into simple text list  TODO\n",
    "print(list(others_label))\n",
    "olist=list(others_label)\n",
    "#for label in others_label:\n",
    "#    print(label)\n",
    "#join makes things a string, between every item, tell it what to put inbetween before the join\n",
    "print(f\"Other category includes the following: {', '.join(olist)}\")"
   ]
  },
  {
   "cell_type": "code",
   "execution_count": null,
   "metadata": {},
   "outputs": [],
   "source": [
    "#plot data\n",
    "pieLabels = flightphase[\"Flight Phase\"][0:7]\n",
    "#todo get the \"count\" out of there.\n",
    "pies = flightphase[0:7].plot.pie(y=\"Count\",figsize=[10, 8],labels=pieLabels,autopct='%1.1f%%',startangle=10)\n",
    "pies.set_aspect('equal')\n",
    "pies.legend(loc='center left', bbox_to_anchor=(.95, .75)) #move legend off the pie\n",
    "plt.title(\"What phase of flight sustains the most animal strikes\")\n",
    "#todo maybe compare this against injuries/fatalities?"
   ]
  },
  {
   "cell_type": "code",
   "execution_count": null,
   "metadata": {},
   "outputs": [],
   "source": [
    "#plotting by animal kingdom not so iteresting since it's only 3% other\n",
    "#subset_wkingdom_df.loc[subset_wkingdom_df[\"Flight Phase\"].isin([\"APPROACH\",\"TAKEOFF RUN\",\"LANDING ROLL\",\"CLIMB\"])].groupby(['Flight Phase', 'Animal_Kingdom']).size().unstack().plot(kind='bar', stacked=True, figsize=(15, 5))\n",
    "#subset_wkingdom_df.groupby(['Flight Phase', 'Animal_Kingdom']).size().unstack().plot(kind='bar', stacked=True, figsize=(15, 5))\n",
    "#df.info()\n",
    "df[\"Flight Phase\"].value_counts()\n",
    "print(df.shape)  #\n",
    "df[df[\"Flight Phase\"].isna()]  #55302 rows have no flight phase?\n"
   ]
  },
  {
   "cell_type": "code",
   "execution_count": null,
   "metadata": {},
   "outputs": [],
   "source": [
    "#todo make another chart to show phase of flight vs. injury/fatality\n",
    "#drop the rows that don't have injury or fatality\n",
    "\n",
    "injuryFatality_df = df[['Flight Phase','Injuries', 'Fatalities','Record ID']]  #narrow the column list\n",
    "injuryFatality_df = injuryFatality_df[injuryFatality_df['Flight Phase'].notna()]  #drop rows w/NaN flight phase 118802 remaining\n",
    "#drop rows where both injury and fatality are NaN.(ie keep rows that have either a nonna injury or non-na fatality)\n",
    "injuryFatality_df = injuryFatality_df[(injuryFatality_df['Injuries'].notna()) | (injuryFatality_df['Fatalities'].notna()) ]\n",
    "#another way to do the same thing below:\n",
    "#injuryFatality_df =injuryFatality_df.dropna(axis =0, subset=['Injuries', 'Fatalities'], how='all') #drop if both injuries and fatalities are nan\n",
    "print(injuryFatality_df.shape) #787 rows the subset way\n",
    "injuryFatality_df=injuryFatality_df.fillna(0) #fill remaining nas w/0s\n",
    "\n",
    "#keep only rows that have fatality or injury > 0\n",
    "injuryFatality_df = injuryFatality_df[(injuryFatality_df['Injuries'] > 0) | (injuryFatality_df['Fatalities'] > 0) ]\n",
    "print(injuryFatality_df.shape)  #down to 237 rows\n",
    "\n",
    "#injuryFatality_df[['Flight Phase','Injuries', 'Fatalities']].sort_values(by=\"Fatalities\", ascending=False)\n",
    "inj_fat_gb=injuryFatality_df.groupby(['Flight Phase','Injuries', 'Fatalities']).count().rename(columns={\"Record ID\":\"Count\"})\n",
    "inj_fat_gb#.plot(kind=\"bar\")  #todo  graph this some how"
   ]
  },
  {
   "cell_type": "markdown",
   "metadata": {},
   "source": [
    "## Where on the aircraft most likely to get damages during a strike? \n",
    "somethingsomething \n",
    "Figure out how likely animal strike is to result in damage"
   ]
  },
  {
   "cell_type": "code",
   "execution_count": null,
   "metadata": {},
   "outputs": [],
   "source": [
    "damage_subset_df = df[[\"Airport ID\",\"Species Quantity\",\"Fatalities\",\"Injuries\",\"Aircraft Damage\",\"Radome Strike\",\"Radome Damage\",\"Windshield Strike\",\"Windshield Damage\",\"Nose Strike\",\"Nose Damage\",\"Engine1 Strike\",\"Engine1 Damage\",\"Engine2 Strike\",\"Engine2 Damage\",\"Engine3 Strike\",\"Engine3 Damage\",\"Engine4 Strike\",\"Engine4 Damage\",\"Engine Ingested\",\"Propeller Strike\",\"Propeller Damage\",\"Wing or Rotor Strike\",\"Wing or Rotor Damage\",\"Fuselage Strike\",\"Fuselage Damage\",\"Landing Gear Strike\",\"Landing Gear Damage\",\"Tail Strike\",\"Tail Damage\",\"Lights Strike\",\"Lights Damage\",\"Other Strike\",\"Other Damage\"]]\n"
   ]
  },
  {
   "cell_type": "code",
   "execution_count": null,
   "metadata": {},
   "outputs": [],
   "source": [
    "#futzing cell\n",
    "print(damage_subset_df[\"Fatalities\"].unique())\n",
    "print(damage_subset_df[\"Injuries\"].unique())\n",
    "damage_subset_df[\"Aircraft Damage\"].value_counts().to_frame()\n",
    "damage_subset_df[\"Fatalities\"].value_counts().to_frame()\n",
    "df.loc[df[\"Fatalities\"]==5.0]"
   ]
  },
  {
   "cell_type": "code",
   "execution_count": null,
   "metadata": {},
   "outputs": [],
   "source": [
    "stk_dmg_totals =damage_subset_df[[\"Radome Strike\",\"Radome Damage\",\"Windshield Strike\",\"Windshield Damage\",\"Nose Strike\",\"Nose Damage\",\"Engine1 Strike\",\"Engine1 Damage\",\"Engine2 Strike\",\"Engine2 Damage\",\"Engine3 Strike\",\"Engine3 Damage\",\"Engine4 Strike\",\"Engine4 Damage\",\"Engine Ingested\",\"Propeller Strike\",\"Propeller Damage\",\"Wing or Rotor Strike\",\"Wing or Rotor Damage\",\"Fuselage Strike\",\"Fuselage Damage\",\"Landing Gear Strike\",\"Landing Gear Damage\",\"Tail Strike\",\"Tail Damage\",\"Lights Strike\",\"Lights Damage\",\"Other Strike\",\"Other Damage\"]].sum()\n",
    "stk_dmg_totals = stk_dmg_totals.to_frame()\n",
    "stk_dmg_totals.rename(columns={0:\"Count\"}, inplace =True)  #rename column"
   ]
  },
  {
   "cell_type": "code",
   "execution_count": null,
   "metadata": {},
   "outputs": [],
   "source": [
    "orderd_stk_dmg=stk_dmg_totals.sort_values(\"Count\",ascending=False)\n",
    "\n",
    "\n",
    "#graph the top 10 places to be struck TODO make pretty\n",
    "# graph the top 10 places to receive damage  todo make pretty\n",
    "# figure out % of strikes resulting in damage. graph this\n",
    "#TODO figure out % of strikes resuling in injuries or fatalities\n",
    "\n",
    "#plot the top 10 places on a the plan struck by animals\n",
    "orderd_stk_dmg[0:10].plot(kind=\"bar\", color=\"green\")\n",
    "plt.xlabel('Where on the Plane') # Label the x axis \n",
    "plt.ylabel(\"Number of Bird Strikes \")  # Label the y axis\n",
    "plt.title(\"Where on the plane sustains the most animal strikes? (top 10 graphed)\")"
   ]
  },
  {
   "cell_type": "code",
   "execution_count": null,
   "metadata": {},
   "outputs": [],
   "source": [
    "dmg_only = stk_dmg_totals.loc[stk_dmg_totals.index.str.contains('Damage')].sort_values(\"Count\",ascending=False)\n",
    "\n",
    "#plot the top 10 places that reported damage from the animal strike\n",
    "dmg_only[0:10].plot(kind=\"bar\", color=\"orange\")\n",
    "plt.xlabel('Where on the Plane') # Label the x axis \n",
    "plt.ylabel(\"Number of Bird Strikes \")  # Label the y axis\n",
    "plt.title(\"Where on the plane sustains damamge from animal strikes? (top 10 graphed)\")"
   ]
  },
  {
   "cell_type": "code",
   "execution_count": null,
   "metadata": {},
   "outputs": [],
   "source": [
    "damage_pct=orderd_stk_dmg  #made a copy, but it's just a new name for smae thing and \"both\" are getting updated"
   ]
  },
  {
   "cell_type": "code",
   "execution_count": null,
   "metadata": {},
   "outputs": [],
   "source": [
    "# calculate the % of strikes that caused damage for the top 10 parts of plane to be hit\n",
    "damage_pct[\"StrikeDamage%\"] = 0.00\n",
    "damage_pct.at['Radome Strike','StrikeDamage%'] = damage_pct.at['Radome Damage','Count']/damage_pct.at['Radome Strike','Count']*100\n",
    "damage_pct.at['Windshield Strike','StrikeDamage%'] = damage_pct.at['Windshield Damage','Count']/damage_pct.at['Windshield Strike','Count']*100\n",
    "damage_pct.at['Nose Strike','StrikeDamage%'] = damage_pct.at['Nose Damage','Count']/damage_pct.at['Nose Strike','Count']*100\n",
    "damage_pct.at['Wing or Rotor Strike','StrikeDamage%'] = damage_pct.at['Wing or Rotor Damage','Count']/damage_pct.at['Wing or Rotor Strike','Count']*100\n",
    "damage_pct.at['Fuselage Strike','StrikeDamage%'] = damage_pct.at['Fuselage Damage','Count']/damage_pct.at['Fuselage Strike','Count']*100\n",
    "damage_pct.at['Other Strike','StrikeDamage%'] = damage_pct.at['Other Damage','Count']/damage_pct.at['Other Strike','Count']*100\n",
    "damage_pct.at['Engine1 Strike','StrikeDamage%'] = damage_pct.at['Engine1 Damage','Count']/damage_pct.at['Engine1 Strike','Count']*100\n",
    "damage_pct.at['Landing Gear Strike','StrikeDamage%'] = damage_pct.at['Landing Gear Damage','Count']/damage_pct.at['Landing Gear Strike','Count']*100\n",
    "damage_pct.at['Engine2 Strike','StrikeDamage%'] = damage_pct.at['Engine2 Damage','Count']/damage_pct.at['Engine2 Strike','Count']*100\n",
    "damage_pct.at['Lights Strike','StrikeDamage%'] = damage_pct.at['Lights Damage','Count']/damage_pct.at['Lights Strike','Count']*100\n",
    "damage_pct.sort_values(\"StrikeDamage%\",ascending=False, inplace=True)  #order the df by % just calculated"
   ]
  },
  {
   "cell_type": "code",
   "execution_count": null,
   "metadata": {},
   "outputs": [],
   "source": [
    "overallDamage_v_strikes = damage_subset_df[\"Aircraft Damage\"].value_counts().to_frame()\n",
    "pct = round(overallDamage_v_strikes.loc[1]/overallDamage_v_strikes.loc[0]*100,2)\n",
    "print(f\"Overall {pct[0]}% Animal strikes resulted in damage to the aircraft.\" )\n",
    "#plot percent of strikes that resulted in damage\n",
    "damage_pct[\"StrikeDamage%\"][0:10].plot(kind=\"bar\",color=\"red\")\n",
    "#damage_pct_orderd#= damage_pct.sort_values(\"StrikeDamage%\",ascending=False)\n",
    "#damage_pct_orderd\n",
    "plt.xlabel('Where on the Plane') # Label the x axis \n",
    "plt.ylabel(\"% of Strikes to result in damage\")  # Label the y axis\n",
    "plt.title(\"What Percent of strikes result in damage to the plane? (top 10 graphed)\")"
   ]
  },
  {
   "cell_type": "code",
   "execution_count": null,
   "metadata": {},
   "outputs": [],
   "source": []
  },
  {
   "cell_type": "code",
   "execution_count": null,
   "metadata": {
    "scrolled": true
   },
   "outputs": [],
   "source": [
    "# Alyssa ^^^\n",
    "subset_wkingdom_df.groupby(['Flight Phase', 'Animal_Kingdom'])\n",
    "subset_wkingdom_df.loc[subset_df[\"Species ID\"].str.startswith('1',na=False)]\n",
    "\n",
    "#subset_df.loc[subset_df[\"Species Name\"] == \"Moose\"]"
   ]
  },
  {
   "cell_type": "code",
   "execution_count": null,
   "metadata": {},
   "outputs": [],
   "source": []
  },
  {
   "cell_type": "code",
   "execution_count": null,
   "metadata": {},
   "outputs": [],
   "source": []
  }
 ],
 "metadata": {
  "kernelspec": {
   "display_name": "Python 3",
   "language": "python",
   "name": "python3"
  },
  "language_info": {
   "codemirror_mode": {
    "name": "ipython",
    "version": 3
   },
   "file_extension": ".py",
   "mimetype": "text/x-python",
   "name": "python",
   "nbconvert_exporter": "python",
   "pygments_lexer": "ipython3",
   "version": "3.6.10"
  }
 },
 "nbformat": 4,
 "nbformat_minor": 2
}
