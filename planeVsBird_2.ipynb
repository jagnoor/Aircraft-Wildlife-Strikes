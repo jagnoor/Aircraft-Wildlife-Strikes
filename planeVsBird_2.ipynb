{
 "cells": [
  {
   "cell_type": "markdown",
   "metadata": {},
   "source": [
    "### Reminder:  Clear output before saving for commit.\n",
    "otherwise merging will suck.\n",
    "\n",
    "Molly and Alyssa will mostly work in this file"
   ]
  },
  {
   "cell_type": "markdown",
   "metadata": {},
   "source": [
    "Main project requirements:\n",
    "  * few plots per question 2 per question 6-8 plots in total\n",
    "  * heading for each q and summary of findings under q\n",
    "  * at least 1 linear regression on at least Q4.\n",
    "  \n"
   ]
  },
  {
   "cell_type": "code",
   "execution_count": 1,
   "metadata": {},
   "outputs": [],
   "source": [
    "import matplotlib.pyplot as plt\n",
    "import csv\n",
    "import pandas as pd\n",
    "import numpy as np\n",
    "import seaborn as sns "
   ]
  },
  {
   "cell_type": "code",
   "execution_count": 2,
   "metadata": {},
   "outputs": [],
   "source": [
    "file_path = 'Data/database.csv'\n",
    "df = pd.read_csv(file_path, low_memory=False)  #low memory imput to avoid warning message\n",
    "# df.info()\n",
    "# column notes:\n",
    "# Species Quantity values: '1', '2-10', nan, '11-100', 'Over 100' "
   ]
  },
  {
   "cell_type": "code",
   "execution_count": 3,
   "metadata": {},
   "outputs": [],
   "source": [
    "subset_df = df[[\"Incident Year\",\"Incident Month\",\"Airport\",\"Airport ID\", \"State\",\"Aircraft\",\"Aircraft Type\", \"Flight Phase\", \"Species Name\",\"Species ID\",\"Species Quantity\"]]\n",
    "subset_df.to_csv(\"Data/data_subset.csv\")\n"
   ]
  },
  {
   "cell_type": "markdown",
   "metadata": {},
   "source": [
    "# Which bird is the most dangerous 1990-2014?"
   ]
  },
  {
   "cell_type": "code",
   "execution_count": 4,
   "metadata": {},
   "outputs": [
    {
     "data": {
      "image/png": "[encoded data removed]",
      "text/plain": [
       "<Figure size 720x360 with 1 Axes>"
      ]
     },
     "metadata": {
      "needs_background": "light"
     },
     "output_type": "display_data"
    }
   ],
   "source": [
    "#removing \"unknown\" bird species, removing partial year data for 2015\n",
    "birdType_df = subset_df[[\"Species Name\",\"Species ID\",\"Species Quantity\"]].loc[(subset_df[\"Species Name\"]!= \"UNKNOWN MEDIUM BIRD\") & (subset_df[\"Species Name\"]!= \"UNKNOWN SMALL BIRD\") \n",
    "                                                                              & (subset_df[\"Species Name\"]!= \"UNKNOWN LARGE BIRD\") & (subset_df[\"Species Name\"]!= \"UNKNOWN BIRD\")\n",
    "                                                                              & (subset_df[\"Incident Year\"]!= 2015)]\n",
    "\n",
    "\n",
    "# todo add labels, pretty up.  add thoughts on results\n",
    "birdCounts = birdType_df[\"Species Name\"].value_counts()\n",
    "\n",
    "y_axis = birdCounts[:10]  \n",
    "x_axis = birdCounts.index[:10]\n",
    "\n",
    "plt.figure(figsize=(10,5))\n",
    "plt.bar(x_axis, y_axis, color = \"green\")\n",
    "plt.tight_layout()  \n",
    "tick_locations = [value for value in x_axis]\n",
    "plt.xticks(tick_locations,birdCounts.index[:10], rotation=\"vertical\")\n",
    "\n",
    "plt.show()\n"
   ]
  },
  {
   "cell_type": "markdown",
   "metadata": {
    "scrolled": true
   },
   "source": [
    "#### Which airport or geographic area is more likely to have a bird/plane strike?\n",
    "    * get fancy add google figure w/heat map possibly\n",
    "    * Graph for states, or stacked one of all airports grouped by state\n"
   ]
  },
  {
   "cell_type": "code",
   "execution_count": 5,
   "metadata": {},
   "outputs": [
    {
     "data": {
      "text/html": [
       "<div>\n",
       "<style scoped>\n",
       "    .dataframe tbody tr th:only-of-type {\n",
       "        vertical-align: middle;\n",
       "    }\n",
       "\n",
       "    .dataframe tbody tr th {\n",
       "        vertical-align: top;\n",
       "    }\n",
       "\n",
       "    .dataframe thead th {\n",
       "        text-align: right;\n",
       "    }\n",
       "</style>\n",
       "<table border=\"1\" class=\"dataframe\">\n",
       "  <thead>\n",
       "    <tr style=\"text-align: right;\">\n",
       "      <th></th>\n",
       "      <th>Incident Year</th>\n",
       "      <th>Incident Month</th>\n",
       "      <th>Airport</th>\n",
       "      <th>Airport ID</th>\n",
       "      <th>State</th>\n",
       "      <th>Aircraft</th>\n",
       "      <th>Aircraft Type</th>\n",
       "      <th>Flight Phase</th>\n",
       "      <th>Species Name</th>\n",
       "      <th>Species ID</th>\n",
       "      <th>Species Quantity</th>\n",
       "    </tr>\n",
       "  </thead>\n",
       "  <tbody>\n",
       "    <tr>\n",
       "      <th>0</th>\n",
       "      <td>1990</td>\n",
       "      <td>1</td>\n",
       "      <td>CINCINNATI/NORTHERN KENTUCKY INTL ARPT</td>\n",
       "      <td>KCVG</td>\n",
       "      <td>KY</td>\n",
       "      <td>B-757-200</td>\n",
       "      <td>A</td>\n",
       "      <td>CLIMB</td>\n",
       "      <td>GULL</td>\n",
       "      <td>NE1</td>\n",
       "      <td>1</td>\n",
       "    </tr>\n",
       "    <tr>\n",
       "      <th>1</th>\n",
       "      <td>1990</td>\n",
       "      <td>1</td>\n",
       "      <td>LIHUE ARPT</td>\n",
       "      <td>PHLI</td>\n",
       "      <td>HI</td>\n",
       "      <td>DC-9</td>\n",
       "      <td>A</td>\n",
       "      <td>TAKEOFF RUN</td>\n",
       "      <td>HOUSE SPARROW</td>\n",
       "      <td>ZZ201</td>\n",
       "      <td>1</td>\n",
       "    </tr>\n",
       "    <tr>\n",
       "      <th>2</th>\n",
       "      <td>1990</td>\n",
       "      <td>1</td>\n",
       "      <td>LIHUE ARPT</td>\n",
       "      <td>PHLI</td>\n",
       "      <td>HI</td>\n",
       "      <td>UNKNOWN</td>\n",
       "      <td>NaN</td>\n",
       "      <td>NaN</td>\n",
       "      <td>BARN OWL</td>\n",
       "      <td>R1101</td>\n",
       "      <td>1</td>\n",
       "    </tr>\n",
       "    <tr>\n",
       "      <th>3</th>\n",
       "      <td>1990</td>\n",
       "      <td>1</td>\n",
       "      <td>MYRTLE BEACH INTL</td>\n",
       "      <td>KMYR</td>\n",
       "      <td>SC</td>\n",
       "      <td>A-10A</td>\n",
       "      <td>A</td>\n",
       "      <td>APPROACH</td>\n",
       "      <td>UNKNOWN MEDIUM BIRD</td>\n",
       "      <td>UNKBM</td>\n",
       "      <td>1</td>\n",
       "    </tr>\n",
       "    <tr>\n",
       "      <th>4</th>\n",
       "      <td>1990</td>\n",
       "      <td>1</td>\n",
       "      <td>JACKSONVILLE INTL</td>\n",
       "      <td>KJAX</td>\n",
       "      <td>FL</td>\n",
       "      <td>F-16</td>\n",
       "      <td>A</td>\n",
       "      <td>CLIMB</td>\n",
       "      <td>FINCH</td>\n",
       "      <td>ZX</td>\n",
       "      <td>1</td>\n",
       "    </tr>\n",
       "    <tr>\n",
       "      <th>...</th>\n",
       "      <td>...</td>\n",
       "      <td>...</td>\n",
       "      <td>...</td>\n",
       "      <td>...</td>\n",
       "      <td>...</td>\n",
       "      <td>...</td>\n",
       "      <td>...</td>\n",
       "      <td>...</td>\n",
       "      <td>...</td>\n",
       "      <td>...</td>\n",
       "      <td>...</td>\n",
       "    </tr>\n",
       "    <tr>\n",
       "      <th>174099</th>\n",
       "      <td>2015</td>\n",
       "      <td>9</td>\n",
       "      <td>NaN</td>\n",
       "      <td>UNKN</td>\n",
       "      <td>NaN</td>\n",
       "      <td>B-737-700</td>\n",
       "      <td>A</td>\n",
       "      <td>NaN</td>\n",
       "      <td>UNKNOWN SMALL BIRD</td>\n",
       "      <td>UNKBS</td>\n",
       "      <td>1</td>\n",
       "    </tr>\n",
       "    <tr>\n",
       "      <th>174100</th>\n",
       "      <td>2015</td>\n",
       "      <td>9</td>\n",
       "      <td>DALLAS LOVE FIELD ARPT</td>\n",
       "      <td>KDAL</td>\n",
       "      <td>TX</td>\n",
       "      <td>B-737-700</td>\n",
       "      <td>A</td>\n",
       "      <td>APPROACH</td>\n",
       "      <td>UNKNOWN SMALL BIRD</td>\n",
       "      <td>UNKBS</td>\n",
       "      <td>1</td>\n",
       "    </tr>\n",
       "    <tr>\n",
       "      <th>174101</th>\n",
       "      <td>2015</td>\n",
       "      <td>9</td>\n",
       "      <td>MIAMI INTL</td>\n",
       "      <td>KMIA</td>\n",
       "      <td>FL</td>\n",
       "      <td>CITATIONJET</td>\n",
       "      <td>A</td>\n",
       "      <td>CLIMB</td>\n",
       "      <td>TURKEY VULTURE</td>\n",
       "      <td>K1002</td>\n",
       "      <td>1</td>\n",
       "    </tr>\n",
       "    <tr>\n",
       "      <th>174102</th>\n",
       "      <td>2015</td>\n",
       "      <td>9</td>\n",
       "      <td>PORTLAND INTL (OR)</td>\n",
       "      <td>KPDX</td>\n",
       "      <td>OR</td>\n",
       "      <td>DHC8 DASH 8</td>\n",
       "      <td>A</td>\n",
       "      <td>DESCENT</td>\n",
       "      <td>HERMIT THRUSH</td>\n",
       "      <td>Z6014</td>\n",
       "      <td>1</td>\n",
       "    </tr>\n",
       "    <tr>\n",
       "      <th>174103</th>\n",
       "      <td>2015</td>\n",
       "      <td>9</td>\n",
       "      <td>AUGUSTA REGIONAL ARPT AT BUSH FLD</td>\n",
       "      <td>KAGS</td>\n",
       "      <td>GA</td>\n",
       "      <td>CRJ100/200</td>\n",
       "      <td>A</td>\n",
       "      <td>CLIMB</td>\n",
       "      <td>SWALLOW</td>\n",
       "      <td>YI</td>\n",
       "      <td>1</td>\n",
       "    </tr>\n",
       "  </tbody>\n",
       "</table>\n",
       "<p>174104 rows × 11 columns</p>\n",
       "</div>"
      ],
      "text/plain": [
       "        Incident Year  Incident Month                                 Airport  \\\n",
       "0                1990               1  CINCINNATI/NORTHERN KENTUCKY INTL ARPT   \n",
       "1                1990               1                              LIHUE ARPT   \n",
       "2                1990               1                              LIHUE ARPT   \n",
       "3                1990               1                       MYRTLE BEACH INTL   \n",
       "4                1990               1                       JACKSONVILLE INTL   \n",
       "...               ...             ...                                     ...   \n",
       "174099           2015               9                                     NaN   \n",
       "174100           2015               9                  DALLAS LOVE FIELD ARPT   \n",
       "174101           2015               9                              MIAMI INTL   \n",
       "174102           2015               9                      PORTLAND INTL (OR)   \n",
       "174103           2015               9       AUGUSTA REGIONAL ARPT AT BUSH FLD   \n",
       "\n",
       "       Airport ID State     Aircraft Aircraft Type Flight Phase  \\\n",
       "0            KCVG    KY    B-757-200             A        CLIMB   \n",
       "1            PHLI    HI         DC-9             A  TAKEOFF RUN   \n",
       "2            PHLI    HI      UNKNOWN           NaN          NaN   \n",
       "3            KMYR    SC        A-10A             A     APPROACH   \n",
       "4            KJAX    FL         F-16             A        CLIMB   \n",
       "...           ...   ...          ...           ...          ...   \n",
       "174099       UNKN   NaN    B-737-700             A          NaN   \n",
       "174100       KDAL    TX    B-737-700             A     APPROACH   \n",
       "174101       KMIA    FL  CITATIONJET             A        CLIMB   \n",
       "174102       KPDX    OR  DHC8 DASH 8             A      DESCENT   \n",
       "174103       KAGS    GA   CRJ100/200             A        CLIMB   \n",
       "\n",
       "               Species Name Species ID Species Quantity  \n",
       "0                      GULL        NE1                1  \n",
       "1             HOUSE SPARROW      ZZ201                1  \n",
       "2                  BARN OWL      R1101                1  \n",
       "3       UNKNOWN MEDIUM BIRD      UNKBM                1  \n",
       "4                     FINCH         ZX                1  \n",
       "...                     ...        ...              ...  \n",
       "174099   UNKNOWN SMALL BIRD      UNKBS                1  \n",
       "174100   UNKNOWN SMALL BIRD      UNKBS                1  \n",
       "174101       TURKEY VULTURE      K1002                1  \n",
       "174102        HERMIT THRUSH      Z6014                1  \n",
       "174103              SWALLOW         YI                1  \n",
       "\n",
       "[174104 rows x 11 columns]"
      ]
     },
     "execution_count": 5,
     "metadata": {},
     "output_type": "execute_result"
    }
   ],
   "source": [
    "subset_df"
   ]
  },
  {
   "cell_type": "code",
   "execution_count": null,
   "metadata": {},
   "outputs": [],
   "source": []
  },
  {
   "cell_type": "code",
   "execution_count": 30,
   "metadata": {},
   "outputs": [
    {
     "data": {
      "image/png": "[encoded data removed]",
      "text/plain": [
       "<Figure size 1080x432 with 1 Axes>"
      ]
     },
     "metadata": {},
     "output_type": "display_data"
    }
   ],
   "source": [
    "# Jag's \\/\\/\\/\n",
    "subset_df[\"State\"].value_counts().head(10)\n",
    "\n",
    "# Get the numnber of occurances of each state\n",
    "state_counts = df.State.value_counts()\n",
    "\n",
    "# Split and Save the state names in a variable\n",
    "states = state_counts.index\n",
    "\n",
    "# Split and Save the counts in another variable\n",
    "counts = state_counts.values\n",
    "\n",
    "# Create barplot object\n",
    "barplot = sns.barplot(x=states, y=counts)\n",
    "\n",
    "sns.set(rc={'figure.figsize':(15,6)})\n",
    "barplot = sns.barplot(x=states[:5], y=counts[:5])\n",
    "\n"
   ]
  },
  {
   "cell_type": "code",
   "execution_count": 29,
   "metadata": {},
   "outputs": [
    {
     "data": {
      "image/png": "[encoded data removed]",
      "text/plain": [
       "<Figure size 720x360 with 1 Axes>"
      ]
     },
     "metadata": {},
     "output_type": "display_data"
    }
   ],
   "source": [
    "# Jag's ^^^\n",
    "\n",
    "\n",
    "\n",
    "\n",
    "# todo add labels, pretty up.  add thoughts on results\n",
    "stateCounts = subset_df[\"State\"].value_counts()\n",
    "stateCounts\n",
    "\n",
    "y_axis = stateCounts[:5]  \n",
    "x_axis = stateCounts.index[:5]\n",
    "\n",
    "plt.figure(figsize=(10,5))\n",
    "plt.bar(x_axis, y_axis, color = \"pink\")\n",
    "plt.tight_layout()  \n",
    "plt.xlabel('State Name')\n",
    "plt.ylabel(\"Number of Bird Strikes\")\n",
    " \n",
    "\n",
    "for i in range(len(y_axis)):\n",
    "    plt.annotate(str(y_axis[i]), xy=(x_axis[i],y_axis[i]), ha='center', va='bottom')\n",
    "\n",
    "\n",
    "plt.show()\n"
   ]
  },
  {
   "cell_type": "code",
   "execution_count": 8,
   "metadata": {},
   "outputs": [],
   "source": [
    "# Molly \\/\\/\\/"
   ]
  },
  {
   "cell_type": "code",
   "execution_count": 9,
   "metadata": {},
   "outputs": [],
   "source": [
    "# Molly ^^^"
   ]
  },
  {
   "cell_type": "code",
   "execution_count": 10,
   "metadata": {},
   "outputs": [],
   "source": [
    "# Selom \\/\\/\\/"
   ]
  },
  {
   "cell_type": "code",
   "execution_count": 11,
   "metadata": {},
   "outputs": [],
   "source": [
    "# Selom ^^^"
   ]
  },
  {
   "cell_type": "code",
   "execution_count": 12,
   "metadata": {},
   "outputs": [],
   "source": [
    "# Alyssa  \\/\\/\\/"
   ]
  },
  {
   "cell_type": "code",
   "execution_count": 13,
   "metadata": {},
   "outputs": [],
   "source": [
    "# Alyssa ^^^"
   ]
  }
 ],
 "metadata": {
  "kernelspec": {
   "display_name": "Python 3",
   "language": "python",
   "name": "python3"
  },
  "language_info": {
   "codemirror_mode": {
    "name": "ipython",
    "version": 3
   },
   "file_extension": ".py",
   "mimetype": "text/x-python",
   "name": "python",
   "nbconvert_exporter": "python",
   "pygments_lexer": "ipython3",
   "version": "3.6.10"
  }
 },
 "nbformat": 4,
 "nbformat_minor": 2
}
