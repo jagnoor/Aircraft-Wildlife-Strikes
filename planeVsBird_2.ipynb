{
 "cells": [
  {
   "cell_type": "markdown",
   "metadata": {},
   "source": [
    "### Reminder:  Clear output before saving for commit.\n",
    "otherwise merging will suck.\n"
   ]
  },
  {
   "cell_type": "markdown",
   "metadata": {},
   "source": [
    "Main project requirements:\n",
    "  * few plots per question 2 per question 6-8 plots in total\n",
    "  * heading for each q and summary of findings under q\n",
    "  * at least 1 linear regression on at least Q4.\n",
    "  \n"
   ]
  },
  {
   "cell_type": "code",
   "execution_count": 1,
   "metadata": {},
   "outputs": [],
   "source": [
    "import matplotlib.pyplot as plt\n",
    "import csv\n",
    "import pandas as pd\n",
    "import numpy as np\n",
    "import seaborn as sns "
   ]
  },
  {
   "cell_type": "code",
   "execution_count": 2,
   "metadata": {},
   "outputs": [],
   "source": [
    "file_path = 'Data/database.csv'\n",
    "df = pd.read_csv(file_path, low_memory=False)  #low memory imput to avoid warning message\n",
    "# df.info()\n",
    "# column notes:\n",
    "# Species Quantity values: '1', '2-10', nan, '11-100', 'Over 100' "
   ]
  },
  {
   "cell_type": "code",
   "execution_count": 37,
   "metadata": {},
   "outputs": [],
   "source": [
    "subset_df = df[[\"Incident Year\",\"Incident Month\",\"Airport\",\"Airport ID\", \"State\",\"Aircraft\",\"Aircraft Type\", \"Flight Phase\", \"Species Name\",\"Species ID\",\"Species Quantity\"]]\n",
    "subset_df.to_csv(\"Data/data_subset.csv\")\n"
   ]
  },
  {
   "cell_type": "markdown",
   "metadata": {},
   "source": [
    "# Which bird is the most dangerous 1990-2014?"
   ]
  },
  {
   "cell_type": "code",
   "execution_count": null,
   "metadata": {},
   "outputs": [],
   "source": [
    "#removing \"unknown\" bird species, removing partial year data for 2015\n",
    "birdType_df = subset_df[[\"Species Name\",\"Species ID\",\"Species Quantity\"]].loc[(subset_df[\"Species Name\"]!= \"UNKNOWN MEDIUM BIRD\") & (subset_df[\"Species Name\"]!= \"UNKNOWN SMALL BIRD\") \n",
    "                                                                              & (subset_df[\"Species Name\"]!= \"UNKNOWN LARGE BIRD\") & (subset_df[\"Species Name\"]!= \"UNKNOWN BIRD\")\n",
    "                                                                              & (subset_df[\"Incident Year\"]!= 2015)]\n",
    "\n",
    "\n",
    "# todo add labels, pretty up.  add thoughts on results\n",
    "birdCounts = birdType_df[\"Species Name\"].value_counts()\n",
    "\n",
    "y_axis = birdCounts[:10]  \n",
    "x_axis = birdCounts.index[:10]\n",
    "\n",
    "plt.figure(figsize=(10,5))\n",
    "plt.bar(x_axis, y_axis, color = \"green\")\n",
    "plt.tight_layout()  \n",
    "tick_locations = [value for value in x_axis]\n",
    "plt.xticks(tick_locations,birdCounts.index[:10], rotation=\"vertical\")\n",
    "\n",
    "plt.xlabel('Bird Name') # Label the x axis \n",
    "plt.ylabel(\"Number of Bird Strikes \")  # Label the y axis\n",
    "plt.title(\" Which bird is the most dangerous 1990-2014? aka Mourning Dove \")\n",
    "\n",
    "for i in range(len(y_axis)):\n",
    "    plt.annotate(str(y_axis[i]), xy=(x_axis[i],y_axis[i]), ha='center', va='bottom')\n",
    "\n",
    "plt.savefig(\"Images/DangerousMourningDove.png\") # TODO The legend and axis names are put in the saved image.\n",
    "\n",
    "\n",
    "plt.show()\n"
   ]
  },
  {
   "cell_type": "markdown",
   "metadata": {
    "scrolled": true
   },
   "source": [
    "#### Which airport or geographic area is more likely to have a bird/plane strike?\n",
    "    * get fancy add google figure w/heat map possibly\n",
    "    * Graph for states, or stacked one of all airports grouped by state\n"
   ]
  },
  {
   "cell_type": "code",
   "execution_count": null,
   "metadata": {},
   "outputs": [],
   "source": [
    "subset_df"
   ]
  },
  {
   "cell_type": "code",
   "execution_count": null,
   "metadata": {},
   "outputs": [],
   "source": []
  },
  {
   "cell_type": "code",
   "execution_count": null,
   "metadata": {},
   "outputs": [],
   "source": [
    "# Jag's \\/\\/\\/\n",
    "subset_df[\"State\"].value_counts().head(10)\n",
    "\n",
    "# Get the numnber of occurances of each state\n",
    "state_counts = df.State.value_counts()\n",
    "\n",
    "# Split and Save the state names in a variable\n",
    "states = state_counts.index\n",
    "\n",
    "# Split and Save the counts in another variable\n",
    "counts = state_counts.values\n",
    "\n",
    "# Create barplot object\n",
    "barplot = sns.barplot(x=states, y=counts)\n",
    "\n",
    "sns.set(rc={'figure.figsize':(15,6)})\n",
    "barplot = sns.barplot(x=states[:5], y=counts[:5])\n"
   ]
  },
  {
   "cell_type": "code",
   "execution_count": null,
   "metadata": {},
   "outputs": [],
   "source": [
    "# Jag's ^^^\n",
    "\n",
    "\n",
    "\n",
    "\n",
    "# todo add labels, pretty up.  add thoughts on results\n",
    "stateCounts = subset_df[\"State\"].value_counts()\n",
    "stateCounts\n",
    "\n",
    "y_axis = stateCounts[:5]  \n",
    "x_axis = stateCounts.index[:5]\n",
    "\n",
    "plt.figure(figsize=(10,5))\n",
    "plt.bar(x_axis, y_axis, color = \"pink\")\n",
    "plt.tight_layout()  \n",
    "plt.xlabel('State Name')\n",
    "plt.ylabel(\"Number of Bird Strikes\")\n",
    " \n",
    "\n",
    "for i in range(len(y_axis)):\n",
    "    plt.annotate(str(y_axis[i]), xy=(x_axis[i],y_axis[i]), ha='center', va='bottom')\n",
    "\n",
    "\n",
    "plt.show()\n"
   ]
  },
  {
   "cell_type": "code",
   "execution_count": null,
   "metadata": {},
   "outputs": [],
   "source": []
  },
  {
   "cell_type": "code",
   "execution_count": null,
   "metadata": {},
   "outputs": [],
   "source": []
  },
  {
   "cell_type": "code",
   "execution_count": null,
   "metadata": {},
   "outputs": [],
   "source": [
    "# Selom \\/\\/\\/ - Bird strikes that are increasing or decreasing over time? - \n",
    "\n",
    "\n"
   ]
  },
  {
   "cell_type": "code",
   "execution_count": null,
   "metadata": {},
   "outputs": [],
   "source": []
  },
  {
   "cell_type": "code",
   "execution_count": null,
   "metadata": {},
   "outputs": [],
   "source": []
  },
  {
   "cell_type": "code",
   "execution_count": null,
   "metadata": {},
   "outputs": [],
   "source": []
  },
  {
   "cell_type": "code",
   "execution_count": null,
   "metadata": {},
   "outputs": [],
   "source": []
  },
  {
   "cell_type": "code",
   "execution_count": null,
   "metadata": {},
   "outputs": [],
   "source": []
  },
  {
   "cell_type": "code",
   "execution_count": null,
   "metadata": {},
   "outputs": [],
   "source": []
  },
  {
   "cell_type": "code",
   "execution_count": null,
   "metadata": {},
   "outputs": [],
   "source": []
  },
  {
   "cell_type": "code",
   "execution_count": 220,
   "metadata": {
    "scrolled": true
   },
   "outputs": [],
   "source": [
    "#TODO need to clean up this file's first cells and delete the duplicate code from file 1 that builds subset df and just read in the subset df\n",
    "# Alyssa  \\/\\/\\/ Which phase of the flight reports the most bird strikes?\n",
    "\n"
   ]
  },
  {
   "cell_type": "code",
   "execution_count": 76,
   "metadata": {},
   "outputs": [
    {
     "name": "stderr",
     "output_type": "stream",
     "text": [
      "C:\\Users\\kunaual\\anaconda3\\envs\\PythonData\\lib\\site-packages\\ipykernel_launcher.py:4: SettingWithCopyWarning: \n",
      "A value is trying to be set on a copy of a slice from a DataFrame.\n",
      "Try using .loc[row_indexer,col_indexer] = value instead\n",
      "\n",
      "See the caveats in the documentation: https://pandas.pydata.org/pandas-docs/stable/user_guide/indexing.html#returning-a-view-versus-a-copy\n",
      "  after removing the cwd from sys.path.\n",
      "C:\\Users\\kunaual\\anaconda3\\envs\\PythonData\\lib\\site-packages\\ipykernel_launcher.py:6: SettingWithCopyWarning: \n",
      "A value is trying to be set on a copy of a slice from a DataFrame.\n",
      "Try using .loc[row_indexer,col_indexer] = value instead\n",
      "\n",
      "See the caveats in the documentation: https://pandas.pydata.org/pandas-docs/stable/user_guide/indexing.html#returning-a-view-versus-a-copy\n",
      "  \n",
      "C:\\Users\\kunaual\\anaconda3\\envs\\PythonData\\lib\\site-packages\\ipykernel_launcher.py:8: SettingWithCopyWarning: \n",
      "A value is trying to be set on a copy of a slice from a DataFrame.\n",
      "Try using .loc[row_indexer,col_indexer] = value instead\n",
      "\n",
      "See the caveats in the documentation: https://pandas.pydata.org/pandas-docs/stable/user_guide/indexing.html#returning-a-view-versus-a-copy\n",
      "  \n"
     ]
    }
   ],
   "source": [
    "#create animal kingdom column in dataframe\n",
    "subset_wkingdom_df = subset_df\n",
    "#most things in the list are birds, set everything to bird intially\n",
    "subset_wkingdom_df[\"Animal_Kingdom\"]= \"BIRD\"\n",
    "#mammals have species id that starts w/1\n",
    "subset_wkingdom_df[\"Animal_Kingdom\"]= np.where(subset_wkingdom_df['Species ID'].str.startswith('1',na=False), \"MAMMAL\",subset_wkingdom_df[\"Animal_Kingdom\"])\n",
    "#repiles start with 2\n",
    "subset_wkingdom_df[\"Animal_Kingdom\"]= np.where(subset_wkingdom_df['Species ID'].str.startswith('2',na=False), \"REPTILE\",subset_wkingdom_df[\"Animal_Kingdom\"])\n",
    "subset_wkingdom_df.to_csv(\"Data/data_subset_wKingdom.csv\")\n"
   ]
  },
  {
   "cell_type": "code",
   "execution_count": 215,
   "metadata": {},
   "outputs": [
    {
     "data": {
      "text/plain": [
       "BIRD       96.9%\n",
       "MAMMAL      3.0%\n",
       "REPTILE     0.1%\n",
       "Name: Animal_Kingdom, dtype: object"
      ]
     },
     "execution_count": 215,
     "metadata": {},
     "output_type": "execute_result"
    }
   ],
   "source": [
    "#checkout breakdown as %s\n",
    "subset_wkingdom_df[\"Animal_Kingdom\"].value_counts(normalize=True).mul(100).round(1).astype(str) + '%'"
   ]
  },
  {
   "cell_type": "markdown",
   "metadata": {},
   "source": [
    "## Which phase of the flight reports the most animal strikes?\n",
    "todo add a bunch of stuff to discuss this q here\n",
    "\n",
    "Vocab: \n",
    "Approach – The phase of flight when the pilot intends to land on the runway. There are different types of approaches, depending on whether the pilot is flying VFR or IFR.\n",
    "Climb – The act of increasing aircraft altitude, typically to a designated level.\n",
    "Descent – The act of decreasing aircraft altitude, typically to a designated level.\n",
    "en Route – In air traveling to a destination.\n",
    "landing roll- the movement of an aircraft from touchdown through deceleration to taxi speed or full stop.\n",
    "takeoff run - The distance traveled by an airplane from the commencement of takeoff to the point when it leaves the ground or water.\n",
    "https://epicflightacademy.com/aviation-terminology/"
   ]
  },
  {
   "cell_type": "code",
   "execution_count": 199,
   "metadata": {},
   "outputs": [
    {
     "data": {
      "text/html": [
       "<div>\n",
       "<style scoped>\n",
       "    .dataframe tbody tr th:only-of-type {\n",
       "        vertical-align: middle;\n",
       "    }\n",
       "\n",
       "    .dataframe tbody tr th {\n",
       "        vertical-align: top;\n",
       "    }\n",
       "\n",
       "    .dataframe thead th {\n",
       "        text-align: right;\n",
       "    }\n",
       "</style>\n",
       "<table border=\"1\" class=\"dataframe\">\n",
       "  <thead>\n",
       "    <tr style=\"text-align: right;\">\n",
       "      <th></th>\n",
       "      <th>Flight Phase</th>\n",
       "      <th>Count</th>\n",
       "    </tr>\n",
       "  </thead>\n",
       "  <tbody>\n",
       "    <tr>\n",
       "      <th>0</th>\n",
       "      <td>APPROACH</td>\n",
       "      <td>48275</td>\n",
       "    </tr>\n",
       "    <tr>\n",
       "      <th>1</th>\n",
       "      <td>TAKEOFF RUN</td>\n",
       "      <td>21953</td>\n",
       "    </tr>\n",
       "    <tr>\n",
       "      <th>2</th>\n",
       "      <td>LANDING ROLL</td>\n",
       "      <td>20762</td>\n",
       "    </tr>\n",
       "    <tr>\n",
       "      <th>3</th>\n",
       "      <td>CLIMB</td>\n",
       "      <td>19692</td>\n",
       "    </tr>\n",
       "    <tr>\n",
       "      <th>4</th>\n",
       "      <td>DESCENT</td>\n",
       "      <td>3174</td>\n",
       "    </tr>\n",
       "    <tr>\n",
       "      <th>5</th>\n",
       "      <td>EN ROUTE</td>\n",
       "      <td>2989</td>\n",
       "    </tr>\n",
       "    <tr>\n",
       "      <th>6</th>\n",
       "      <td>OTHER</td>\n",
       "      <td>1957</td>\n",
       "    </tr>\n",
       "    <tr>\n",
       "      <th>7</th>\n",
       "      <td>LANDING</td>\n",
       "      <td>626</td>\n",
       "    </tr>\n",
       "    <tr>\n",
       "      <th>8</th>\n",
       "      <td>TAXI</td>\n",
       "      <td>397</td>\n",
       "    </tr>\n",
       "    <tr>\n",
       "      <th>9</th>\n",
       "      <td>DEPARTURE</td>\n",
       "      <td>369</td>\n",
       "    </tr>\n",
       "    <tr>\n",
       "      <th>10</th>\n",
       "      <td>LOCAL</td>\n",
       "      <td>316</td>\n",
       "    </tr>\n",
       "    <tr>\n",
       "      <th>11</th>\n",
       "      <td>ARRIVAL</td>\n",
       "      <td>154</td>\n",
       "    </tr>\n",
       "    <tr>\n",
       "      <th>12</th>\n",
       "      <td>PARKED</td>\n",
       "      <td>95</td>\n",
       "    </tr>\n",
       "  </tbody>\n",
       "</table>\n",
       "</div>"
      ],
      "text/plain": [
       "    Flight Phase  Count\n",
       "0       APPROACH  48275\n",
       "1    TAKEOFF RUN  21953\n",
       "2   LANDING ROLL  20762\n",
       "3          CLIMB  19692\n",
       "4        DESCENT   3174\n",
       "5       EN ROUTE   2989\n",
       "6          OTHER   1957\n",
       "7        LANDING    626\n",
       "8           TAXI    397\n",
       "9      DEPARTURE    369\n",
       "10         LOCAL    316\n",
       "11       ARRIVAL    154\n",
       "12        PARKED     95"
      ]
     },
     "execution_count": 199,
     "metadata": {},
     "output_type": "execute_result"
    }
   ],
   "source": [
    "subset_wkingdom_df[\"Flight Phase\"].value_counts()\n",
    "flightphase= subset_wkingdom_df.groupby(['Flight Phase']) #, 'Animal_Kingdom'])\n",
    "flightphase = flightphase['Incident Year'].count().reset_index().rename(columns={\"Incident Year\":\"Count\"})\n",
    "flightphase = flightphase.sort_values(by='Count',ascending=False).reset_index(drop = True)\n",
    "\n",
    "#the bottom 6 parts of flight make up only ~1% of the total, so pulled those together to new category \"Other\"\n",
    "others_label=flightphase[\"Flight Phase\"][6:]\n",
    "others_total=flightphase.Count[6:].sum()\n",
    "new_row = {'Flight Phase':'OTHER', 'Count':others_total}\n",
    "#append row to the dataframe\n",
    "flightphase = flightphase.append(new_row, ignore_index=True)\n",
    "#reorder to move \"other\" row up to index 6\n",
    "flightphase = flightphase.sort_values(by='Count',ascending=False).reset_index(drop = True)\n",
    "flightphase"
   ]
  },
  {
   "cell_type": "code",
   "execution_count": 202,
   "metadata": {},
   "outputs": [
    {
     "name": "stdout",
     "output_type": "stream",
     "text": [
      "6       LANDING\n",
      "7          TAXI\n",
      "8     DEPARTURE\n",
      "9         LOCAL\n",
      "10      ARRIVAL\n",
      "11       PARKED\n",
      "Name: Flight Phase, dtype: object\n",
      "Other category includes the following: 6       LANDING\n",
      "7          TAXI\n",
      "8     DEPARTURE\n",
      "9         LOCAL\n",
      "10      ARRIVAL\n",
      "11       PARKED\n",
      "Name: Flight Phase, dtype: object\n"
     ]
    }
   ],
   "source": [
    "#figure out how to make others label into simple text list\n",
    "print(others_label)\n",
    "print(f\"Other category includes the following: {others_label}\")"
   ]
  },
  {
   "cell_type": "code",
   "execution_count": 219,
   "metadata": {},
   "outputs": [
    {
     "data": {
      "text/plain": [
       "<matplotlib.legend.Legend at 0x222af884940>"
      ]
     },
     "execution_count": 219,
     "metadata": {},
     "output_type": "execute_result"
    },
    {
     "data": {
      "image/png": "[encoded data removed]",
      "text/plain": [
       "<Figure size 720x576 with 1 Axes>"
      ]
     },
     "metadata": {},
     "output_type": "display_data"
    }
   ],
   "source": [
    "#plot data\n",
    "pieLabels = flightphase[\"Flight Phase\"][0:7]\n",
    "#todo get the \"count\" out of there.\n",
    "pies = flightphase[0:7].plot.pie(y=\"Count\",figsize=[10, 8],labels=pieLabels,autopct='%1.1f%%',startangle=10)\n",
    "pies.set_aspect('equal')\n",
    "pies.legend(loc='center left', bbox_to_anchor=(.95, .75)) #move legend off the pie\n",
    "\n"
   ]
  },
  {
   "cell_type": "code",
   "execution_count": 217,
   "metadata": {},
   "outputs": [],
   "source": [
    "#plotting by animal kingdom not so iteresting since it's only 3% other\n",
    "#subset_wkingdom_df.loc[subset_wkingdom_df[\"Flight Phase\"].isin([\"APPROACH\",\"TAKEOFF RUN\",\"LANDING ROLL\",\"CLIMB\"])].groupby(['Flight Phase', 'Animal_Kingdom']).size().unstack().plot(kind='bar', stacked=True, figsize=(15, 5))\n",
    "#subset_wkingdom_df.groupby(['Flight Phase', 'Animal_Kingdom']).size().unstack().plot(kind='bar', stacked=True, figsize=(15, 5))"
   ]
  },
  {
   "cell_type": "code",
   "execution_count": 79,
   "metadata": {
    "scrolled": true
   },
   "outputs": [
    {
     "data": {
      "text/html": [
       "<div>\n",
       "<style scoped>\n",
       "    .dataframe tbody tr th:only-of-type {\n",
       "        vertical-align: middle;\n",
       "    }\n",
       "\n",
       "    .dataframe tbody tr th {\n",
       "        vertical-align: top;\n",
       "    }\n",
       "\n",
       "    .dataframe thead th {\n",
       "        text-align: right;\n",
       "    }\n",
       "</style>\n",
       "<table border=\"1\" class=\"dataframe\">\n",
       "  <thead>\n",
       "    <tr style=\"text-align: right;\">\n",
       "      <th></th>\n",
       "      <th>Incident Year</th>\n",
       "      <th>Incident Month</th>\n",
       "      <th>Airport</th>\n",
       "      <th>Airport ID</th>\n",
       "      <th>State</th>\n",
       "      <th>Aircraft</th>\n",
       "      <th>Aircraft Type</th>\n",
       "      <th>Flight Phase</th>\n",
       "      <th>Species Name</th>\n",
       "      <th>Species ID</th>\n",
       "      <th>Species Quantity</th>\n",
       "      <th>Animal_Kingdom</th>\n",
       "    </tr>\n",
       "  </thead>\n",
       "  <tbody>\n",
       "    <tr>\n",
       "      <th>12</th>\n",
       "      <td>1990</td>\n",
       "      <td>1</td>\n",
       "      <td>JOHN C TUNE ARPT</td>\n",
       "      <td>KJWN</td>\n",
       "      <td>TN</td>\n",
       "      <td>HAWKER-SDLY HS125</td>\n",
       "      <td>A</td>\n",
       "      <td>TAKEOFF RUN</td>\n",
       "      <td>WHITE-TAILED DEER</td>\n",
       "      <td>1G11</td>\n",
       "      <td>2-10</td>\n",
       "      <td>MAMMAL</td>\n",
       "    </tr>\n",
       "    <tr>\n",
       "      <th>20</th>\n",
       "      <td>1990</td>\n",
       "      <td>1</td>\n",
       "      <td>JACK BARSTOW</td>\n",
       "      <td>KIKW</td>\n",
       "      <td>MI</td>\n",
       "      <td>PA-28</td>\n",
       "      <td>A</td>\n",
       "      <td>LANDING ROLL</td>\n",
       "      <td>WHITE-TAILED DEER</td>\n",
       "      <td>1G11</td>\n",
       "      <td>1</td>\n",
       "      <td>MAMMAL</td>\n",
       "    </tr>\n",
       "    <tr>\n",
       "      <th>26</th>\n",
       "      <td>1990</td>\n",
       "      <td>1</td>\n",
       "      <td>ST. PAUL DOWNTOWN ARPT/HOLMAN FIELD</td>\n",
       "      <td>KSTP</td>\n",
       "      <td>MN</td>\n",
       "      <td>LEARJET-25</td>\n",
       "      <td>A</td>\n",
       "      <td>LANDING ROLL</td>\n",
       "      <td>WHITE-TAILED DEER</td>\n",
       "      <td>1G11</td>\n",
       "      <td>1</td>\n",
       "      <td>MAMMAL</td>\n",
       "    </tr>\n",
       "    <tr>\n",
       "      <th>56</th>\n",
       "      <td>1990</td>\n",
       "      <td>2</td>\n",
       "      <td>ROBT J MILLER AIR PARK</td>\n",
       "      <td>KMJX</td>\n",
       "      <td>NJ</td>\n",
       "      <td>PA-28</td>\n",
       "      <td>A</td>\n",
       "      <td>LANDING ROLL</td>\n",
       "      <td>WHITE-TAILED DEER</td>\n",
       "      <td>1G11</td>\n",
       "      <td>1</td>\n",
       "      <td>MAMMAL</td>\n",
       "    </tr>\n",
       "    <tr>\n",
       "      <th>98</th>\n",
       "      <td>1990</td>\n",
       "      <td>3</td>\n",
       "      <td>PRIVATE AIR STRIP</td>\n",
       "      <td>PVT</td>\n",
       "      <td>CA</td>\n",
       "      <td>PA-J3</td>\n",
       "      <td>A</td>\n",
       "      <td>LANDING ROLL</td>\n",
       "      <td>MULE DEER</td>\n",
       "      <td>1G12</td>\n",
       "      <td>1</td>\n",
       "      <td>MAMMAL</td>\n",
       "    </tr>\n",
       "    <tr>\n",
       "      <th>...</th>\n",
       "      <td>...</td>\n",
       "      <td>...</td>\n",
       "      <td>...</td>\n",
       "      <td>...</td>\n",
       "      <td>...</td>\n",
       "      <td>...</td>\n",
       "      <td>...</td>\n",
       "      <td>...</td>\n",
       "      <td>...</td>\n",
       "      <td>...</td>\n",
       "      <td>...</td>\n",
       "      <td>...</td>\n",
       "    </tr>\n",
       "    <tr>\n",
       "      <th>173990</th>\n",
       "      <td>2015</td>\n",
       "      <td>9</td>\n",
       "      <td>NaN</td>\n",
       "      <td>UNKN</td>\n",
       "      <td>NaN</td>\n",
       "      <td>CRJ700</td>\n",
       "      <td>A</td>\n",
       "      <td>NaN</td>\n",
       "      <td>VESPER BAT</td>\n",
       "      <td>1C21</td>\n",
       "      <td>1</td>\n",
       "      <td>MAMMAL</td>\n",
       "    </tr>\n",
       "    <tr>\n",
       "      <th>173992</th>\n",
       "      <td>2015</td>\n",
       "      <td>9</td>\n",
       "      <td>EL PASO INTL ARPT</td>\n",
       "      <td>KELP</td>\n",
       "      <td>TX</td>\n",
       "      <td>UNKNOWN</td>\n",
       "      <td>NaN</td>\n",
       "      <td>NaN</td>\n",
       "      <td>BLACK-TAILED JACKRABBIT</td>\n",
       "      <td>1D11</td>\n",
       "      <td>1</td>\n",
       "      <td>MAMMAL</td>\n",
       "    </tr>\n",
       "    <tr>\n",
       "      <th>173995</th>\n",
       "      <td>2015</td>\n",
       "      <td>9</td>\n",
       "      <td>RICHMOND INTL</td>\n",
       "      <td>KRIC</td>\n",
       "      <td>VA</td>\n",
       "      <td>CIRRUS SR 20/22</td>\n",
       "      <td>A</td>\n",
       "      <td>APPROACH</td>\n",
       "      <td>COYOTE</td>\n",
       "      <td>1F11</td>\n",
       "      <td>NaN</td>\n",
       "      <td>MAMMAL</td>\n",
       "    </tr>\n",
       "    <tr>\n",
       "      <th>174021</th>\n",
       "      <td>2015</td>\n",
       "      <td>9</td>\n",
       "      <td>NEWARK LIBERTY INTL ARPT</td>\n",
       "      <td>KEWR</td>\n",
       "      <td>NJ</td>\n",
       "      <td>DHC8 DASH 8</td>\n",
       "      <td>A</td>\n",
       "      <td>APPROACH</td>\n",
       "      <td>RED BAT</td>\n",
       "      <td>1C2101</td>\n",
       "      <td>1</td>\n",
       "      <td>MAMMAL</td>\n",
       "    </tr>\n",
       "    <tr>\n",
       "      <th>174056</th>\n",
       "      <td>2015</td>\n",
       "      <td>9</td>\n",
       "      <td>GENERAL DOWNING-PEORIA INTL ARPT</td>\n",
       "      <td>KPIA</td>\n",
       "      <td>IL</td>\n",
       "      <td>UNKNOWN</td>\n",
       "      <td>NaN</td>\n",
       "      <td>NaN</td>\n",
       "      <td>STRIPED SKUNK</td>\n",
       "      <td>1F41</td>\n",
       "      <td>1</td>\n",
       "      <td>MAMMAL</td>\n",
       "    </tr>\n",
       "  </tbody>\n",
       "</table>\n",
       "<p>5145 rows × 12 columns</p>\n",
       "</div>"
      ],
      "text/plain": [
       "        Incident Year  Incident Month                              Airport  \\\n",
       "12               1990               1                     JOHN C TUNE ARPT   \n",
       "20               1990               1                         JACK BARSTOW   \n",
       "26               1990               1  ST. PAUL DOWNTOWN ARPT/HOLMAN FIELD   \n",
       "56               1990               2               ROBT J MILLER AIR PARK   \n",
       "98               1990               3                    PRIVATE AIR STRIP   \n",
       "...               ...             ...                                  ...   \n",
       "173990           2015               9                                  NaN   \n",
       "173992           2015               9                    EL PASO INTL ARPT   \n",
       "173995           2015               9                        RICHMOND INTL   \n",
       "174021           2015               9             NEWARK LIBERTY INTL ARPT   \n",
       "174056           2015               9     GENERAL DOWNING-PEORIA INTL ARPT   \n",
       "\n",
       "       Airport ID State           Aircraft Aircraft Type  Flight Phase  \\\n",
       "12           KJWN    TN  HAWKER-SDLY HS125             A   TAKEOFF RUN   \n",
       "20           KIKW    MI              PA-28             A  LANDING ROLL   \n",
       "26           KSTP    MN         LEARJET-25             A  LANDING ROLL   \n",
       "56           KMJX    NJ              PA-28             A  LANDING ROLL   \n",
       "98            PVT    CA              PA-J3             A  LANDING ROLL   \n",
       "...           ...   ...                ...           ...           ...   \n",
       "173990       UNKN   NaN             CRJ700             A           NaN   \n",
       "173992       KELP    TX            UNKNOWN           NaN           NaN   \n",
       "173995       KRIC    VA    CIRRUS SR 20/22             A      APPROACH   \n",
       "174021       KEWR    NJ        DHC8 DASH 8             A      APPROACH   \n",
       "174056       KPIA    IL            UNKNOWN           NaN           NaN   \n",
       "\n",
       "                   Species Name Species ID Species Quantity Animal_Kingdom  \n",
       "12            WHITE-TAILED DEER       1G11             2-10         MAMMAL  \n",
       "20            WHITE-TAILED DEER       1G11                1         MAMMAL  \n",
       "26            WHITE-TAILED DEER       1G11                1         MAMMAL  \n",
       "56            WHITE-TAILED DEER       1G11                1         MAMMAL  \n",
       "98                    MULE DEER       1G12                1         MAMMAL  \n",
       "...                         ...        ...              ...            ...  \n",
       "173990               VESPER BAT       1C21                1         MAMMAL  \n",
       "173992  BLACK-TAILED JACKRABBIT       1D11                1         MAMMAL  \n",
       "173995                   COYOTE       1F11              NaN         MAMMAL  \n",
       "174021                  RED BAT     1C2101                1         MAMMAL  \n",
       "174056            STRIPED SKUNK       1F41                1         MAMMAL  \n",
       "\n",
       "[5145 rows x 12 columns]"
      ]
     },
     "execution_count": 79,
     "metadata": {},
     "output_type": "execute_result"
    }
   ],
   "source": [
    "# Alyssa ^^^\n",
    "subset_wkingdom_df.groupby(['Flight Phase', 'Animal_Kingdom'])\n",
    "subset_wkingdom_df.loc[subset_df[\"Species ID\"].str.startswith('1',na=False)]\n",
    "\n",
    "#subset_df.loc[subset_df[\"Species Name\"] == \"Moose\"]"
   ]
  },
  {
   "cell_type": "code",
   "execution_count": null,
   "metadata": {},
   "outputs": [],
   "source": []
  }
 ],
 "metadata": {
  "kernelspec": {
   "display_name": "Python 3",
   "language": "python",
   "name": "python3"
  },
  "language_info": {
   "codemirror_mode": {
    "name": "ipython",
    "version": 3
   },
   "file_extension": ".py",
   "mimetype": "text/x-python",
   "name": "python",
   "nbconvert_exporter": "python",
   "pygments_lexer": "ipython3",
   "version": "3.6.10"
  }
 },
 "nbformat": 4,
 "nbformat_minor": 2
}
