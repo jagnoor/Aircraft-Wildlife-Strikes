{
 "cells": [
  {
   "cell_type": "markdown",
   "metadata": {},
   "source": [
    "### Reminder:  Clear output before saving for commit.\n",
    "otherwise merging will suck.\n"
   ]
  },
  {
   "cell_type": "markdown",
   "metadata": {},
   "source": [
    "Main project requirements:\n",
    "  * few plots per question 2 per question 6-8 plots in total\n",
    "  * heading for each q and summary of findings under q\n",
    "  * at least 1 linear regression on at least Q4.\n",
    "  \n"
   ]
  },
  {
   "cell_type": "code",
   "execution_count": 1,
   "metadata": {},
   "outputs": [],
   "source": [
    "import matplotlib.pyplot as plt\n",
    "import csv\n",
    "import pandas as pd\n",
    "import numpy as np\n",
    "import seaborn as sns\n",
    "import warnings\n",
    "warnings.filterwarnings('ignore')"
   ]
  },
  {
   "cell_type": "code",
   "execution_count": 2,
   "metadata": {},
   "outputs": [],
   "source": [
    "file_path = 'Data/database.csv'\n",
    "df = pd.read_csv(file_path, low_memory=False)  #low memory imput to avoid warning message\n",
    "# df.info()\n",
    "# column notes:\n",
    "# Species Quantity values: '1', '2-10', nan, '11-100', 'Over 100' "
   ]
  },
  {
   "cell_type": "code",
   "execution_count": 3,
   "metadata": {},
   "outputs": [],
   "source": [
    "subset_df = df[[\"Incident Year\",\"Incident Month\",\"Airport\",\"Airport ID\", \"State\",\"Aircraft\",\"Aircraft Type\", \"Flight Phase\", \"Species Name\",\"Species ID\",\"Species Quantity\"]]\n",
    "subset_df.to_csv(\"Data/data_subset.csv\")\n"
   ]
  },
  {
   "cell_type": "markdown",
   "metadata": {},
   "source": [
    "# Which bird is the most dangerous 1990-2014?"
   ]
  },
  {
   "cell_type": "code",
   "execution_count": 4,
   "metadata": {},
   "outputs": [],
   "source": [
    "# #removing \"unknown\" bird species, removing partial year data for 2015\n",
    "# birdType_df = subset_df[[\"Species Name\",\"Species ID\",\"Species Quantity\"]].loc[(subset_df[\"Species Name\"]!= \"UNKNOWN MEDIUM BIRD\") & (subset_df[\"Species Name\"]!= \"UNKNOWN SMALL BIRD\") \n",
    "#                                                                               & (subset_df[\"Species Name\"]!= \"UNKNOWN LARGE BIRD\") & (subset_df[\"Species Name\"]!= \"UNKNOWN BIRD\")\n",
    "#                                                                               & (subset_df[\"Incident Year\"]!= 2015)]\n",
    "\n",
    "\n",
    "# # todo add labels, pretty up.  add thoughts on results\n",
    "# birdCounts = birdType_df[\"Species Name\"].value_counts()\n",
    "\n",
    "# y_axis = birdCounts[:10]  \n",
    "# x_axis = birdCounts.index[:10]\n",
    "\n",
    "# plt.figure(figsize=(10,5))\n",
    "# plt.bar(x_axis, y_axis, color = \"green\")\n",
    "# plt.tight_layout()  \n",
    "# tick_locations = [value for value in x_axis]\n",
    "# plt.xticks(tick_locations,birdCounts.index[:10], rotation=\"vertical\")\n",
    "\n",
    "# plt.xlabel('Bird Name') # Label the x axis \n",
    "# plt.ylabel(\"Number of Bird Strikes \")  # Label the y axis\n",
    "# plt.title(\" Which bird is the most dangerous 1990-2014? aka Mourning Dove \")\n",
    "\n",
    "# for i in range(len(y_axis)):\n",
    "#     plt.annotate(str(y_axis[i]), xy=(x_axis[i],y_axis[i]), ha='center', va='bottom')\n",
    "\n",
    "# plt.savefig(\"Images/DangerousMourningDove.png\") # TODO The legend and axis names are put in the saved image.\n",
    "\n",
    "\n",
    "# plt.show()\n"
   ]
  },
  {
   "cell_type": "markdown",
   "metadata": {
    "scrolled": true
   },
   "source": [
    "#### Which airport or geographic area is more likely to have a bird/plane strike?\n",
    "    * get fancy add google figure w/heat map possibly\n",
    "    * Graph for states, or stacked one of all airports grouped by state\n"
   ]
  },
  {
   "cell_type": "code",
   "execution_count": 5,
   "metadata": {},
   "outputs": [
    {
     "data": {
      "text/html": [
       "<div>\n",
       "<style scoped>\n",
       "    .dataframe tbody tr th:only-of-type {\n",
       "        vertical-align: middle;\n",
       "    }\n",
       "\n",
       "    .dataframe tbody tr th {\n",
       "        vertical-align: top;\n",
       "    }\n",
       "\n",
       "    .dataframe thead th {\n",
       "        text-align: right;\n",
       "    }\n",
       "</style>\n",
       "<table border=\"1\" class=\"dataframe\">\n",
       "  <thead>\n",
       "    <tr style=\"text-align: right;\">\n",
       "      <th></th>\n",
       "      <th>Incident Year</th>\n",
       "      <th>Incident Month</th>\n",
       "      <th>Airport</th>\n",
       "      <th>Airport ID</th>\n",
       "      <th>State</th>\n",
       "      <th>Aircraft</th>\n",
       "      <th>Aircraft Type</th>\n",
       "      <th>Flight Phase</th>\n",
       "      <th>Species Name</th>\n",
       "      <th>Species ID</th>\n",
       "      <th>Species Quantity</th>\n",
       "    </tr>\n",
       "  </thead>\n",
       "  <tbody>\n",
       "    <tr>\n",
       "      <th>0</th>\n",
       "      <td>1990</td>\n",
       "      <td>1</td>\n",
       "      <td>CINCINNATI/NORTHERN KENTUCKY INTL ARPT</td>\n",
       "      <td>KCVG</td>\n",
       "      <td>KY</td>\n",
       "      <td>B-757-200</td>\n",
       "      <td>A</td>\n",
       "      <td>CLIMB</td>\n",
       "      <td>GULL</td>\n",
       "      <td>NE1</td>\n",
       "      <td>1</td>\n",
       "    </tr>\n",
       "    <tr>\n",
       "      <th>1</th>\n",
       "      <td>1990</td>\n",
       "      <td>1</td>\n",
       "      <td>LIHUE ARPT</td>\n",
       "      <td>PHLI</td>\n",
       "      <td>HI</td>\n",
       "      <td>DC-9</td>\n",
       "      <td>A</td>\n",
       "      <td>TAKEOFF RUN</td>\n",
       "      <td>HOUSE SPARROW</td>\n",
       "      <td>ZZ201</td>\n",
       "      <td>1</td>\n",
       "    </tr>\n",
       "    <tr>\n",
       "      <th>2</th>\n",
       "      <td>1990</td>\n",
       "      <td>1</td>\n",
       "      <td>LIHUE ARPT</td>\n",
       "      <td>PHLI</td>\n",
       "      <td>HI</td>\n",
       "      <td>UNKNOWN</td>\n",
       "      <td>NaN</td>\n",
       "      <td>NaN</td>\n",
       "      <td>BARN OWL</td>\n",
       "      <td>R1101</td>\n",
       "      <td>1</td>\n",
       "    </tr>\n",
       "    <tr>\n",
       "      <th>3</th>\n",
       "      <td>1990</td>\n",
       "      <td>1</td>\n",
       "      <td>MYRTLE BEACH INTL</td>\n",
       "      <td>KMYR</td>\n",
       "      <td>SC</td>\n",
       "      <td>A-10A</td>\n",
       "      <td>A</td>\n",
       "      <td>APPROACH</td>\n",
       "      <td>UNKNOWN MEDIUM BIRD</td>\n",
       "      <td>UNKBM</td>\n",
       "      <td>1</td>\n",
       "    </tr>\n",
       "    <tr>\n",
       "      <th>4</th>\n",
       "      <td>1990</td>\n",
       "      <td>1</td>\n",
       "      <td>JACKSONVILLE INTL</td>\n",
       "      <td>KJAX</td>\n",
       "      <td>FL</td>\n",
       "      <td>F-16</td>\n",
       "      <td>A</td>\n",
       "      <td>CLIMB</td>\n",
       "      <td>FINCH</td>\n",
       "      <td>ZX</td>\n",
       "      <td>1</td>\n",
       "    </tr>\n",
       "    <tr>\n",
       "      <th>...</th>\n",
       "      <td>...</td>\n",
       "      <td>...</td>\n",
       "      <td>...</td>\n",
       "      <td>...</td>\n",
       "      <td>...</td>\n",
       "      <td>...</td>\n",
       "      <td>...</td>\n",
       "      <td>...</td>\n",
       "      <td>...</td>\n",
       "      <td>...</td>\n",
       "      <td>...</td>\n",
       "    </tr>\n",
       "    <tr>\n",
       "      <th>174099</th>\n",
       "      <td>2015</td>\n",
       "      <td>9</td>\n",
       "      <td>NaN</td>\n",
       "      <td>UNKN</td>\n",
       "      <td>NaN</td>\n",
       "      <td>B-737-700</td>\n",
       "      <td>A</td>\n",
       "      <td>NaN</td>\n",
       "      <td>UNKNOWN SMALL BIRD</td>\n",
       "      <td>UNKBS</td>\n",
       "      <td>1</td>\n",
       "    </tr>\n",
       "    <tr>\n",
       "      <th>174100</th>\n",
       "      <td>2015</td>\n",
       "      <td>9</td>\n",
       "      <td>DALLAS LOVE FIELD ARPT</td>\n",
       "      <td>KDAL</td>\n",
       "      <td>TX</td>\n",
       "      <td>B-737-700</td>\n",
       "      <td>A</td>\n",
       "      <td>APPROACH</td>\n",
       "      <td>UNKNOWN SMALL BIRD</td>\n",
       "      <td>UNKBS</td>\n",
       "      <td>1</td>\n",
       "    </tr>\n",
       "    <tr>\n",
       "      <th>174101</th>\n",
       "      <td>2015</td>\n",
       "      <td>9</td>\n",
       "      <td>MIAMI INTL</td>\n",
       "      <td>KMIA</td>\n",
       "      <td>FL</td>\n",
       "      <td>CITATIONJET</td>\n",
       "      <td>A</td>\n",
       "      <td>CLIMB</td>\n",
       "      <td>TURKEY VULTURE</td>\n",
       "      <td>K1002</td>\n",
       "      <td>1</td>\n",
       "    </tr>\n",
       "    <tr>\n",
       "      <th>174102</th>\n",
       "      <td>2015</td>\n",
       "      <td>9</td>\n",
       "      <td>PORTLAND INTL (OR)</td>\n",
       "      <td>KPDX</td>\n",
       "      <td>OR</td>\n",
       "      <td>DHC8 DASH 8</td>\n",
       "      <td>A</td>\n",
       "      <td>DESCENT</td>\n",
       "      <td>HERMIT THRUSH</td>\n",
       "      <td>Z6014</td>\n",
       "      <td>1</td>\n",
       "    </tr>\n",
       "    <tr>\n",
       "      <th>174103</th>\n",
       "      <td>2015</td>\n",
       "      <td>9</td>\n",
       "      <td>AUGUSTA REGIONAL ARPT AT BUSH FLD</td>\n",
       "      <td>KAGS</td>\n",
       "      <td>GA</td>\n",
       "      <td>CRJ100/200</td>\n",
       "      <td>A</td>\n",
       "      <td>CLIMB</td>\n",
       "      <td>SWALLOW</td>\n",
       "      <td>YI</td>\n",
       "      <td>1</td>\n",
       "    </tr>\n",
       "  </tbody>\n",
       "</table>\n",
       "<p>174104 rows × 11 columns</p>\n",
       "</div>"
      ],
      "text/plain": [
       "        Incident Year  Incident Month                                 Airport  \\\n",
       "0                1990               1  CINCINNATI/NORTHERN KENTUCKY INTL ARPT   \n",
       "1                1990               1                              LIHUE ARPT   \n",
       "2                1990               1                              LIHUE ARPT   \n",
       "3                1990               1                       MYRTLE BEACH INTL   \n",
       "4                1990               1                       JACKSONVILLE INTL   \n",
       "...               ...             ...                                     ...   \n",
       "174099           2015               9                                     NaN   \n",
       "174100           2015               9                  DALLAS LOVE FIELD ARPT   \n",
       "174101           2015               9                              MIAMI INTL   \n",
       "174102           2015               9                      PORTLAND INTL (OR)   \n",
       "174103           2015               9       AUGUSTA REGIONAL ARPT AT BUSH FLD   \n",
       "\n",
       "       Airport ID State     Aircraft Aircraft Type Flight Phase  \\\n",
       "0            KCVG    KY    B-757-200             A        CLIMB   \n",
       "1            PHLI    HI         DC-9             A  TAKEOFF RUN   \n",
       "2            PHLI    HI      UNKNOWN           NaN          NaN   \n",
       "3            KMYR    SC        A-10A             A     APPROACH   \n",
       "4            KJAX    FL         F-16             A        CLIMB   \n",
       "...           ...   ...          ...           ...          ...   \n",
       "174099       UNKN   NaN    B-737-700             A          NaN   \n",
       "174100       KDAL    TX    B-737-700             A     APPROACH   \n",
       "174101       KMIA    FL  CITATIONJET             A        CLIMB   \n",
       "174102       KPDX    OR  DHC8 DASH 8             A      DESCENT   \n",
       "174103       KAGS    GA   CRJ100/200             A        CLIMB   \n",
       "\n",
       "               Species Name Species ID Species Quantity  \n",
       "0                      GULL        NE1                1  \n",
       "1             HOUSE SPARROW      ZZ201                1  \n",
       "2                  BARN OWL      R1101                1  \n",
       "3       UNKNOWN MEDIUM BIRD      UNKBM                1  \n",
       "4                     FINCH         ZX                1  \n",
       "...                     ...        ...              ...  \n",
       "174099   UNKNOWN SMALL BIRD      UNKBS                1  \n",
       "174100   UNKNOWN SMALL BIRD      UNKBS                1  \n",
       "174101       TURKEY VULTURE      K1002                1  \n",
       "174102        HERMIT THRUSH      Z6014                1  \n",
       "174103              SWALLOW         YI                1  \n",
       "\n",
       "[174104 rows x 11 columns]"
      ]
     },
     "execution_count": 5,
     "metadata": {},
     "output_type": "execute_result"
    }
   ],
   "source": [
    "subset_df"
   ]
  },
  {
   "cell_type": "code",
   "execution_count": null,
   "metadata": {},
   "outputs": [],
   "source": []
  },
  {
   "cell_type": "code",
   "execution_count": 6,
   "metadata": {},
   "outputs": [],
   "source": [
    "# # Jag's \\/\\/\\/\n",
    "# subset_df[\"State\"].value_counts().head(10)\n",
    "\n",
    "# # Get the numnber of occurances of each state\n",
    "# state_counts = df.State.value_counts()\n",
    "\n",
    "# # Split and Save the state names in a variable\n",
    "# states = state_counts.index\n",
    "\n",
    "# # Split and Save the counts in another variable\n",
    "# counts = state_counts.values\n",
    "\n",
    "# # Create barplot object\n",
    "# barplot = sns.barplot(x=states, y=counts)\n",
    "\n",
    "# sns.set(rc={'figure.figsize':(15,6)})\n",
    "# barplot = sns.barplot(x=states[:5], y=counts[:5])\n"
   ]
  },
  {
   "cell_type": "code",
   "execution_count": 7,
   "metadata": {},
   "outputs": [],
   "source": [
    "# # Jag's ^^^\n",
    "\n",
    "\n",
    "\n",
    "\n",
    "# # todo add labels, pretty up.  add thoughts on results\n",
    "# stateCounts = subset_df[\"State\"].value_counts()\n",
    "# stateCounts\n",
    "\n",
    "# y_axis = stateCounts[:5]  \n",
    "# x_axis = stateCounts.index[:5]\n",
    "\n",
    "# plt.figure(figsize=(10,5))\n",
    "# plt.bar(x_axis, y_axis, color = \"pink\")\n",
    "# plt.tight_layout()  \n",
    "# plt.xlabel('State Name')\n",
    "# plt.ylabel(\"Number of Bird Strikes\")\n",
    " \n",
    "\n",
    "# for i in range(len(y_axis)):\n",
    "#     plt.annotate(str(y_axis[i]), xy=(x_axis[i],y_axis[i]), ha='center', va='bottom')\n",
    "\n",
    "\n",
    "# plt.show()\n"
   ]
  },
  {
   "cell_type": "code",
   "execution_count": null,
   "metadata": {},
   "outputs": [],
   "source": []
  },
  {
   "cell_type": "code",
   "execution_count": null,
   "metadata": {},
   "outputs": [],
   "source": []
  },
  {
   "cell_type": "code",
   "execution_count": 8,
   "metadata": {},
   "outputs": [],
   "source": [
    "# Selom \\/\\/\\/ - Bird strikes that are increasing or decreasing over time? - \n",
    "\n",
    "# Frequency of strikes (by year)\n",
    "all_strikes = [\"Radome Strike\",\"Windshield Strike\",\"Nose Strike\",\"Engine1 Strike\", \"Engine2 Strike\",\n",
    "                \"Engine3 Strike\",\"Engine4 Strike\", \"Propeller Strike\", \"Wing or Rotor Strike\",\n",
    "                \"Fuselage Strike\",\"Landing Gear Strike\", \"Tail Strike\", \"Lights Strike\", \"Other Strike\"]\n",
    "all_strikes = df[[\"Incident Year\",\"Airport\"]].loc[subset_df[\"Incident Year\"]!= 2015]\n",
    "data_table = all_strikes.groupby(\"Incident Year\").count()\n",
    "# data_table\n"
   ]
  },
  {
   "cell_type": "code",
   "execution_count": null,
   "metadata": {},
   "outputs": [],
   "source": [
    "\n"
   ]
  },
  {
   "cell_type": "code",
   "execution_count": 27,
   "metadata": {},
   "outputs": [
    {
     "data": {
      "image/png": "[encoded data removed]",
      "text/plain": [
       "<Figure size 1440x360 with 1 Axes>"
      ]
     },
     "metadata": {
      "needs_background": "light"
     },
     "output_type": "display_data"
    }
   ],
   "source": [
    "# Incidents (strikes) by month\n",
    "x_axis = data_table.index\n",
    "y_axis = data_table[\"Airport\"]\n",
    "plt.figure(figsize=(20,5))\n",
    "plt.bar(x_axis, y_axis)\n",
    "plt.title(\"Incidents by Year\")\n",
    "plt.ylabel(\"Number of Strikes\")\n",
    "plt.plot(color=\"#20F216\")\n",
    "\n",
    "y_list = list(y_axis)\n",
    "\n",
    "for i in range(len(y_list)):\n",
    "    plt.annotate(str(y_list[i]), xy=(x_axis[i],y_list[i]), ha='center', va='bottom')\n",
    "    \n",
    "plt.savefig(\"Images/Incidentsbyyear.png\", dpi=100) # TODO The legend and axis names are put in the saved image.\n",
    "\n",
    "plt.show()\n",
    "\n",
    "#todo add a summary here "
   ]
  },
  {
   "cell_type": "code",
   "execution_count": null,
   "metadata": {},
   "outputs": [],
   "source": []
  },
  {
   "cell_type": "code",
   "execution_count": null,
   "metadata": {},
   "outputs": [],
   "source": []
  },
  {
   "cell_type": "markdown",
   "metadata": {},
   "source": []
  },
  {
   "cell_type": "code",
   "execution_count": null,
   "metadata": {},
   "outputs": [],
   "source": []
  },
  {
   "cell_type": "code",
   "execution_count": null,
   "metadata": {},
   "outputs": [],
   "source": []
  },
  {
   "cell_type": "code",
   "execution_count": null,
   "metadata": {},
   "outputs": [],
   "source": []
  },
  {
   "cell_type": "code",
   "execution_count": null,
   "metadata": {},
   "outputs": [],
   "source": []
  },
  {
   "cell_type": "code",
   "execution_count": null,
   "metadata": {},
   "outputs": [],
   "source": []
  },
  {
   "cell_type": "code",
   "execution_count": null,
   "metadata": {},
   "outputs": [],
   "source": []
  },
  {
   "cell_type": "code",
   "execution_count": null,
   "metadata": {},
   "outputs": [],
   "source": []
  },
  {
   "cell_type": "code",
   "execution_count": null,
   "metadata": {},
   "outputs": [],
   "source": []
  },
  {
   "cell_type": "code",
   "execution_count": 10,
   "metadata": {
    "scrolled": true
   },
   "outputs": [],
   "source": [
    "#TODO need to clean up this file's first cells and delete the duplicate code from file 1 that builds subset df and just read in the subset df\n",
    "# Alyssa  \\/\\/\\/ Which phase of the flight reports the most bird strikes?\n",
    "\n"
   ]
  },
  {
   "cell_type": "code",
   "execution_count": 11,
   "metadata": {},
   "outputs": [],
   "source": [
    "#create animal kingdom column in dataframe and populate it for birds/mammals/reptiles involved in airplane incidents.\n",
    "subset_wkingdom_df = subset_df\n",
    "#most things in the list are birds, set everything to bird intially\n",
    "subset_wkingdom_df[\"Animal_Kingdom\"]= \"BIRD\"\n",
    "#mammals have species id that starts w/1\n",
    "subset_wkingdom_df[\"Animal_Kingdom\"]= np.where(subset_wkingdom_df['Species ID'].str.startswith('1',na=False), \"MAMMAL\",subset_wkingdom_df[\"Animal_Kingdom\"])\n",
    "#repiles start with 2\n",
    "subset_wkingdom_df[\"Animal_Kingdom\"]= np.where(subset_wkingdom_df['Species ID'].str.startswith('2',na=False), \"REPTILE\",subset_wkingdom_df[\"Animal_Kingdom\"])\n",
    "subset_wkingdom_df.to_csv(\"Data/data_subset_wKingdom.csv\")\n"
   ]
  },
  {
   "cell_type": "code",
   "execution_count": 12,
   "metadata": {},
   "outputs": [
    {
     "data": {
      "text/plain": [
       "BIRD       96.9%\n",
       "MAMMAL      3.0%\n",
       "REPTILE     0.1%\n",
       "Name: Animal_Kingdom, dtype: object"
      ]
     },
     "execution_count": 12,
     "metadata": {},
     "output_type": "execute_result"
    }
   ],
   "source": [
    "#checkout breakdown as %s\n",
    "subset_wkingdom_df[\"Animal_Kingdom\"].value_counts(normalize=True).mul(100).round(1).astype(str) + '%'"
   ]
  },
  {
   "cell_type": "markdown",
   "metadata": {},
   "source": [
    "## Which phase of the flight reports the most animal strikes?\n",
    "todo add a bunch of stuff to discuss this q here\n",
    "\n",
    "Vocab: \n",
    "Approach – The phase of flight when the pilot intends to land on the runway. There are different types of approaches, depending on whether the pilot is flying VFR or IFR.\n",
    "\n",
    "Climb – The act of increasing aircraft altitude, typically to a designated level.\n",
    "\n",
    "Descent – The act of decreasing aircraft altitude, typically to a designated level.\n",
    "\n",
    "en Route – In air traveling to a destination.\n",
    "\n",
    "landing roll- the movement of an aircraft from touchdown through deceleration to taxi speed or full stop.\n",
    "\n",
    "takeoff run - The distance traveled by an airplane from the commencement of takeoff to the point when it leaves the ground or water.\n",
    "https://epicflightacademy.com/aviation-terminology/"
   ]
  },
  {
   "cell_type": "code",
   "execution_count": 13,
   "metadata": {},
   "outputs": [
    {
     "name": "stdout",
     "output_type": "stream",
     "text": [
      "Total rows that contain Flight Phase data: 118802\n"
     ]
    }
   ],
   "source": [
    "subset_df[\"Flight Phase\"].value_counts()\n",
    "flightphase= subset_df.groupby(['Flight Phase'])\n",
    "flightphase = flightphase['Incident Year'].count().reset_index().rename(columns={\"Incident Year\":\"Count\"})\n",
    "flightphase = flightphase.sort_values(by='Count',ascending=False).reset_index(drop = True)\n",
    "#print(flightphase.Count.sum())  check count of sum == the total of non-NaN rows for flight phase 118802\n",
    "print(\"Total rows that contain Flight Phase data: \"+str(df[\"Flight Phase\"].notnull().sum()))  #118802 rows have flight phase data\n",
    "#len(df[df[\"Flight Phase\"].isna()])+df[\"Flight Phase\"].notnull().sum() #55302 rows have no flight phase + 118802 = 174104 total rows from orig dataset\n",
    "\n",
    "#the bottom 6 parts of flight make up only ~1% of the total, so pulled those together to new category \"Other\"\n",
    "others_label=flightphase[\"Flight Phase\"][6:]\n",
    "others_total=flightphase.Count[6:].sum()\n",
    "new_row = {'Flight Phase':'OTHER', 'Count':others_total}\n",
    "#append row to the dataframe\n",
    "flightphase = flightphase.append(new_row, ignore_index=True)\n",
    "#reorder to move \"other\" row up to index 6\n",
    "flightphase = flightphase.sort_values(by='Count',ascending=False).reset_index(drop = True)\n"
   ]
  },
  {
   "cell_type": "code",
   "execution_count": 14,
   "metadata": {},
   "outputs": [
    {
     "name": "stdout",
     "output_type": "stream",
     "text": [
      "['LANDING', 'TAXI', 'DEPARTURE', 'LOCAL', 'ARRIVAL', 'PARKED']\n",
      "Other category includes the following: LANDING, TAXI, DEPARTURE, LOCAL, ARRIVAL, PARKED\n"
     ]
    }
   ],
   "source": [
    "#figure out how to make others label into simple text list  TODO\n",
    "print(list(others_label))\n",
    "olist=list(others_label)\n",
    "#for label in others_label:\n",
    "#    print(label)\n",
    "#join makes things a string, between every item, tell it what to put inbetween before the join\n",
    "print(f\"Other category includes the following: {', '.join(olist)}\")"
   ]
  },
  {
   "cell_type": "code",
   "execution_count": 30,
   "metadata": {},
   "outputs": [
    {
     "data": {
      "image/png": "[encoded data removed]",
      "text/plain": [
       "<Figure size 720x576 with 1 Axes>"
      ]
     },
     "metadata": {},
     "output_type": "display_data"
    }
   ],
   "source": [
    "#plot data\n",
    "pieLabels = flightphase[\"Flight Phase\"][0:7]\n",
    "#todo get the \"count\" out of there.\n",
    "pies = flightphase[0:7].plot.pie(y=\"Count\",figsize=[10, 8],labels=pieLabels,autopct='%1.1f%%',startangle=10)\n",
    "pies.set_aspect('equal')\n",
    "pies.legend(loc='center left', bbox_to_anchor=(.95, .75)) #move legend off the pie\n",
    "plt.title(\"What phase of flight sustains the most animal strikes\")\n",
    "plt.savefig(\"Images/Flightphase.png\", dpi=100) # TODO The legend and axis names are put in the saved image.\n",
    "\n",
    "#todo maybe compare this against injuries/fatalities?"
   ]
  },
  {
   "cell_type": "code",
   "execution_count": 33,
   "metadata": {},
   "outputs": [],
   "source": [
    "#plotting by animal kingdom not so iteresting since it's only 3% other\n",
    "#subset_wkingdom_df.loc[subset_wkingdom_df[\"Flight Phase\"].isin([\"APPROACH\",\"TAKEOFF RUN\",\"LANDING ROLL\",\"CLIMB\"])].groupby(['Flight Phase', 'Animal_Kingdom']).size().unstack().plot(kind='bar', stacked=True, figsize=(15, 5))\n",
    "#subset_wkingdom_df.groupby(['Flight Phase', 'Animal_Kingdom']).size().unstack().plot(kind='bar', stacked=True, figsize=(15, 5))\n",
    "# #df.info()\n",
    "# df[\"Flight Phase\"].value_counts()\n",
    "# # print(df.shape)  #\n",
    "# # df[df[\"Flight Phase\"].isna()]  #55302 rows have no flight phase?\n"
   ]
  },
  {
   "cell_type": "code",
   "execution_count": 34,
   "metadata": {},
   "outputs": [
    {
     "name": "stdout",
     "output_type": "stream",
     "text": [
      "(787, 4)\n",
      "(237, 4)\n"
     ]
    }
   ],
   "source": [
    "#todo make another chart to show phase of flight vs. injury/fatality\n",
    "#drop the rows that don't have injury or fatality\n",
    "\n",
    "injuryFatality_df = df[['Flight Phase','Injuries', 'Fatalities','Record ID']]  #narrow the column list\n",
    "injuryFatality_df = injuryFatality_df[injuryFatality_df['Flight Phase'].notna()]  #drop rows w/NaN flight phase 118802 remaining\n",
    "#drop rows where both injury and fatality are NaN.(ie keep rows that have either a nonna injury or non-na fatality)\n",
    "injuryFatality_df = injuryFatality_df[(injuryFatality_df['Injuries'].notna()) | (injuryFatality_df['Fatalities'].notna()) ]\n",
    "#another way to do the same thing below:\n",
    "#injuryFatality_df =injuryFatality_df.dropna(axis =0, subset=['Injuries', 'Fatalities'], how='all') #drop if both injuries and fatalities are nan\n",
    "print(injuryFatality_df.shape) #787 rows the subset way\n",
    "injuryFatality_df=injuryFatality_df.fillna(0) #fill remaining nas w/0s\n",
    "\n",
    "#keep only rows that have fatality or injury > 0\n",
    "injuryFatality_df = injuryFatality_df[(injuryFatality_df['Injuries'] > 0) | (injuryFatality_df['Fatalities'] > 0) ]\n",
    "print(injuryFatality_df.shape)  #down to 237 rows\n",
    "\n",
    "#injuryFatality_df[['Flight Phase','Injuries', 'Fatalities']].sort_values(by=\"Fatalities\", ascending=False)\n",
    "inj_fat_gb=injuryFatality_df.groupby(['Flight Phase','Injuries', 'Fatalities']).count().rename(columns={\"Record ID\":\"Count\"})\n",
    "# inj_fat_gb#.plot(kind=\"bar\")  #todo  graph this some how"
   ]
  },
  {
   "cell_type": "markdown",
   "metadata": {},
   "source": [
    "## Where on the aircraft most likely to get damages during a strike? \n",
    "somethingsomething \n",
    "Figure out how likely animal strike is to result in damage"
   ]
  },
  {
   "cell_type": "code",
   "execution_count": 18,
   "metadata": {},
   "outputs": [],
   "source": [
    "damage_subset_df = df[[\"Airport ID\",\"Species Quantity\",\"Fatalities\",\"Injuries\",\"Aircraft Damage\",\"Radome Strike\",\"Radome Damage\",\"Windshield Strike\",\"Windshield Damage\",\"Nose Strike\",\"Nose Damage\",\"Engine1 Strike\",\"Engine1 Damage\",\"Engine2 Strike\",\"Engine2 Damage\",\"Engine3 Strike\",\"Engine3 Damage\",\"Engine4 Strike\",\"Engine4 Damage\",\"Engine Ingested\",\"Propeller Strike\",\"Propeller Damage\",\"Wing or Rotor Strike\",\"Wing or Rotor Damage\",\"Fuselage Strike\",\"Fuselage Damage\",\"Landing Gear Strike\",\"Landing Gear Damage\",\"Tail Strike\",\"Tail Damage\",\"Lights Strike\",\"Lights Damage\",\"Other Strike\",\"Other Damage\"]]\n"
   ]
  },
  {
   "cell_type": "code",
   "execution_count": 19,
   "metadata": {},
   "outputs": [
    {
     "name": "stdout",
     "output_type": "stream",
     "text": [
      "[nan  1.  2.  0.  5.  8.]\n",
      "[ nan   1.   2.   7.   5.   4.   3. 100.]\n"
     ]
    },
    {
     "data": {
      "text/html": [
       "<div>\n",
       "<style scoped>\n",
       "    .dataframe tbody tr th:only-of-type {\n",
       "        vertical-align: middle;\n",
       "    }\n",
       "\n",
       "    .dataframe tbody tr th {\n",
       "        vertical-align: top;\n",
       "    }\n",
       "\n",
       "    .dataframe thead th {\n",
       "        text-align: right;\n",
       "    }\n",
       "</style>\n",
       "<table border=\"1\" class=\"dataframe\">\n",
       "  <thead>\n",
       "    <tr style=\"text-align: right;\">\n",
       "      <th></th>\n",
       "      <th>Record ID</th>\n",
       "      <th>Incident Year</th>\n",
       "      <th>Incident Month</th>\n",
       "      <th>Incident Day</th>\n",
       "      <th>Operator ID</th>\n",
       "      <th>Operator</th>\n",
       "      <th>Aircraft</th>\n",
       "      <th>Aircraft Type</th>\n",
       "      <th>Aircraft Make</th>\n",
       "      <th>Aircraft Model</th>\n",
       "      <th>...</th>\n",
       "      <th>Fuselage Strike</th>\n",
       "      <th>Fuselage Damage</th>\n",
       "      <th>Landing Gear Strike</th>\n",
       "      <th>Landing Gear Damage</th>\n",
       "      <th>Tail Strike</th>\n",
       "      <th>Tail Damage</th>\n",
       "      <th>Lights Strike</th>\n",
       "      <th>Lights Damage</th>\n",
       "      <th>Other Strike</th>\n",
       "      <th>Other Damage</th>\n",
       "    </tr>\n",
       "  </thead>\n",
       "  <tbody>\n",
       "    <tr>\n",
       "      <th>89477</th>\n",
       "      <td>260583</td>\n",
       "      <td>2008</td>\n",
       "      <td>3</td>\n",
       "      <td>4</td>\n",
       "      <td>BUS</td>\n",
       "      <td>BUSINESS</td>\n",
       "      <td>CITATION</td>\n",
       "      <td>A</td>\n",
       "      <td>226</td>\n",
       "      <td>31</td>\n",
       "      <td>...</td>\n",
       "      <td>0</td>\n",
       "      <td>1</td>\n",
       "      <td>0</td>\n",
       "      <td>1</td>\n",
       "      <td>1</td>\n",
       "      <td>1</td>\n",
       "      <td>0</td>\n",
       "      <td>1</td>\n",
       "      <td>0</td>\n",
       "      <td>0</td>\n",
       "    </tr>\n",
       "  </tbody>\n",
       "</table>\n",
       "<p>1 rows × 66 columns</p>\n",
       "</div>"
      ],
      "text/plain": [
       "       Record ID  Incident Year  Incident Month  Incident Day Operator ID  \\\n",
       "89477     260583           2008               3             4         BUS   \n",
       "\n",
       "       Operator  Aircraft Aircraft Type Aircraft Make Aircraft Model  ...  \\\n",
       "89477  BUSINESS  CITATION             A           226             31  ...   \n",
       "\n",
       "       Fuselage Strike  Fuselage Damage Landing Gear Strike  \\\n",
       "89477                0                1                   0   \n",
       "\n",
       "       Landing Gear Damage Tail Strike Tail Damage  Lights Strike  \\\n",
       "89477                    1           1           1              0   \n",
       "\n",
       "      Lights Damage  Other Strike Other Damage  \n",
       "89477             1             0            0  \n",
       "\n",
       "[1 rows x 66 columns]"
      ]
     },
     "execution_count": 19,
     "metadata": {},
     "output_type": "execute_result"
    }
   ],
   "source": [
    "#futzing cell\n",
    "print(damage_subset_df[\"Fatalities\"].unique())\n",
    "print(damage_subset_df[\"Injuries\"].unique())\n",
    "damage_subset_df[\"Aircraft Damage\"].value_counts().to_frame()\n",
    "damage_subset_df[\"Fatalities\"].value_counts().to_frame()\n",
    "df.loc[df[\"Fatalities\"]==5.0]"
   ]
  },
  {
   "cell_type": "code",
   "execution_count": 20,
   "metadata": {},
   "outputs": [],
   "source": [
    "stk_dmg_totals =damage_subset_df[[\"Radome Strike\",\"Radome Damage\",\"Windshield Strike\",\"Windshield Damage\",\"Nose Strike\",\"Nose Damage\",\"Engine1 Strike\",\"Engine1 Damage\",\"Engine2 Strike\",\"Engine2 Damage\",\"Engine3 Strike\",\"Engine3 Damage\",\"Engine4 Strike\",\"Engine4 Damage\",\"Engine Ingested\",\"Propeller Strike\",\"Propeller Damage\",\"Wing or Rotor Strike\",\"Wing or Rotor Damage\",\"Fuselage Strike\",\"Fuselage Damage\",\"Landing Gear Strike\",\"Landing Gear Damage\",\"Tail Strike\",\"Tail Damage\",\"Lights Strike\",\"Lights Damage\",\"Other Strike\",\"Other Damage\"]].sum()\n",
    "stk_dmg_totals = stk_dmg_totals.to_frame()\n",
    "stk_dmg_totals.rename(columns={0:\"Count\"}, inplace =True)  #rename column"
   ]
  },
  {
   "cell_type": "code",
   "execution_count": 52,
   "metadata": {},
   "outputs": [
    {
     "data": {
      "image/png": "[encoded data removed]",
      "text/plain": [
       "<Figure size 1728x1008 with 1 Axes>"
      ]
     },
     "metadata": {
      "needs_background": "light"
     },
     "output_type": "display_data"
    }
   ],
   "source": [
    "orderd_stk_dmg=stk_dmg_totals.sort_values(\"Count\",ascending=False)\n",
    "#graph the top 10 places to be struck TODO make pretty\n",
    "# graph the top 10 places to receive damage  todo make pretty\n",
    "# figure out % of strikes resulting in damage. graph this\n",
    "#TODO figure out % of strikes resuling in injuries or fatalities\n",
    "\n",
    "#plot the top 10 places on a the plan struck by animals\n",
    "orderd_stk_dmg[0:10].plot(kind=\"bar\", color=\"green\",figsize=(24,14))\n",
    "plt.xlabel('Where on the Plane') # Label the x axis \n",
    "plt.ylabel(\"Number of Bird Strikes \")  # Label the y axis\n",
    "plt.title(\"Where on the plane sustains the most animal strikes? (top 10 graphed)\")\n",
    "\n",
    "plt.savefig(\"Images/AnimalStrikeWhere.png\", dpi=100) # TODO The legend and axis names are put in the saved image.\n"
   ]
  },
  {
   "cell_type": "code",
   "execution_count": 55,
   "metadata": {},
   "outputs": [
    {
     "data": {
      "image/png": "[encoded data removed]",
      "text/plain": [
       "<Figure size 1728x1296 with 1 Axes>"
      ]
     },
     "metadata": {
      "needs_background": "light"
     },
     "output_type": "display_data"
    }
   ],
   "source": [
    "dmg_only = stk_dmg_totals.loc[stk_dmg_totals.index.str.contains('Damage')].sort_values(\"Count\",ascending=False)\n",
    "\n",
    "#plot the top 10 places that reported damage from the animal strike\n",
    "dmg_only[0:10].plot(kind=\"bar\", color=\"orange\",figsize=(24,18))\n",
    "plt.xlabel('Where on the Plane') # Label the x axis \n",
    "plt.ylabel(\"Number of Bird Strikes \")  # Label the y axis\n",
    "plt.title(\"Where on the plane sustains damamge from animal strikes? (top 10 graphed)\")\n",
    "plt.savefig(\"Images/AnimalDamageWhere.png\", dpi=100) # TODO The legend and axis names are put in the saved image.\n"
   ]
  },
  {
   "cell_type": "code",
   "execution_count": 23,
   "metadata": {},
   "outputs": [],
   "source": [
    "damage_pct=orderd_stk_dmg  #made a copy, but it's just a new name for smae thing and \"both\" are getting updated"
   ]
  },
  {
   "cell_type": "code",
   "execution_count": 24,
   "metadata": {},
   "outputs": [],
   "source": [
    "# calculate the % of strikes that caused damage for the top 10 parts of plane to be hit\n",
    "damage_pct[\"StrikeDamage%\"] = 0.00\n",
    "damage_pct.at['Radome Strike','StrikeDamage%'] = damage_pct.at['Radome Damage','Count']/damage_pct.at['Radome Strike','Count']*100\n",
    "damage_pct.at['Windshield Strike','StrikeDamage%'] = damage_pct.at['Windshield Damage','Count']/damage_pct.at['Windshield Strike','Count']*100\n",
    "damage_pct.at['Nose Strike','StrikeDamage%'] = damage_pct.at['Nose Damage','Count']/damage_pct.at['Nose Strike','Count']*100\n",
    "damage_pct.at['Wing or Rotor Strike','StrikeDamage%'] = damage_pct.at['Wing or Rotor Damage','Count']/damage_pct.at['Wing or Rotor Strike','Count']*100\n",
    "damage_pct.at['Fuselage Strike','StrikeDamage%'] = damage_pct.at['Fuselage Damage','Count']/damage_pct.at['Fuselage Strike','Count']*100\n",
    "damage_pct.at['Other Strike','StrikeDamage%'] = damage_pct.at['Other Damage','Count']/damage_pct.at['Other Strike','Count']*100\n",
    "damage_pct.at['Engine1 Strike','StrikeDamage%'] = damage_pct.at['Engine1 Damage','Count']/damage_pct.at['Engine1 Strike','Count']*100\n",
    "damage_pct.at['Landing Gear Strike','StrikeDamage%'] = damage_pct.at['Landing Gear Damage','Count']/damage_pct.at['Landing Gear Strike','Count']*100\n",
    "damage_pct.at['Engine2 Strike','StrikeDamage%'] = damage_pct.at['Engine2 Damage','Count']/damage_pct.at['Engine2 Strike','Count']*100\n",
    "damage_pct.at['Lights Strike','StrikeDamage%'] = damage_pct.at['Lights Damage','Count']/damage_pct.at['Lights Strike','Count']*100\n",
    "damage_pct.sort_values(\"StrikeDamage%\",ascending=False, inplace=True)  #order the df by % just calculated"
   ]
  },
  {
   "cell_type": "code",
   "execution_count": 56,
   "metadata": {},
   "outputs": [
    {
     "name": "stdout",
     "output_type": "stream",
     "text": [
      "Overall 9.41% Animal strikes resulted in damage to the aircraft.\n"
     ]
    },
    {
     "data": {
      "image/png": "[encoded data removed]",
      "text/plain": [
       "<Figure size 1728x1296 with 1 Axes>"
      ]
     },
     "metadata": {
      "needs_background": "light"
     },
     "output_type": "display_data"
    }
   ],
   "source": [
    "overallDamage_v_strikes = damage_subset_df[\"Aircraft Damage\"].value_counts().to_frame()\n",
    "pct = round(overallDamage_v_strikes.loc[1]/overallDamage_v_strikes.loc[0]*100,2)\n",
    "print(f\"Overall {pct[0]}% Animal strikes resulted in damage to the aircraft.\" )\n",
    "#plot percent of strikes that resulted in damage\n",
    "damage_pct[\"StrikeDamage%\"][0:10].plot(kind=\"bar\",color=\"red\", figsize=(24,18))\n",
    "#damage_pct_orderd#= damage_pct.sort_values(\"StrikeDamage%\",ascending=False)\n",
    "#damage_pct_orderd\n",
    "plt.xlabel('Where on the Plane') # Label the x axis \n",
    "plt.ylabel(\"% of Strikes to result in damage\")  # Label the y axis\n",
    "plt.title(\"What Percent of strikes result in damage to the plane? (top 10 graphed)\")\n",
    "plt.savefig(\"Images/AnimalDamageStikeHowmuch.png\", dpi=100) # TODO The legend and axis names are put in the saved image.\n"
   ]
  },
  {
   "cell_type": "code",
   "execution_count": null,
   "metadata": {},
   "outputs": [],
   "source": []
  },
  {
   "cell_type": "code",
   "execution_count": 26,
   "metadata": {
    "scrolled": true
   },
   "outputs": [
    {
     "data": {
      "text/html": [
       "<div>\n",
       "<style scoped>\n",
       "    .dataframe tbody tr th:only-of-type {\n",
       "        vertical-align: middle;\n",
       "    }\n",
       "\n",
       "    .dataframe tbody tr th {\n",
       "        vertical-align: top;\n",
       "    }\n",
       "\n",
       "    .dataframe thead th {\n",
       "        text-align: right;\n",
       "    }\n",
       "</style>\n",
       "<table border=\"1\" class=\"dataframe\">\n",
       "  <thead>\n",
       "    <tr style=\"text-align: right;\">\n",
       "      <th></th>\n",
       "      <th>Incident Year</th>\n",
       "      <th>Incident Month</th>\n",
       "      <th>Airport</th>\n",
       "      <th>Airport ID</th>\n",
       "      <th>State</th>\n",
       "      <th>Aircraft</th>\n",
       "      <th>Aircraft Type</th>\n",
       "      <th>Flight Phase</th>\n",
       "      <th>Species Name</th>\n",
       "      <th>Species ID</th>\n",
       "      <th>Species Quantity</th>\n",
       "      <th>Animal_Kingdom</th>\n",
       "    </tr>\n",
       "  </thead>\n",
       "  <tbody>\n",
       "    <tr>\n",
       "      <th>12</th>\n",
       "      <td>1990</td>\n",
       "      <td>1</td>\n",
       "      <td>JOHN C TUNE ARPT</td>\n",
       "      <td>KJWN</td>\n",
       "      <td>TN</td>\n",
       "      <td>HAWKER-SDLY HS125</td>\n",
       "      <td>A</td>\n",
       "      <td>TAKEOFF RUN</td>\n",
       "      <td>WHITE-TAILED DEER</td>\n",
       "      <td>1G11</td>\n",
       "      <td>2-10</td>\n",
       "      <td>MAMMAL</td>\n",
       "    </tr>\n",
       "    <tr>\n",
       "      <th>20</th>\n",
       "      <td>1990</td>\n",
       "      <td>1</td>\n",
       "      <td>JACK BARSTOW</td>\n",
       "      <td>KIKW</td>\n",
       "      <td>MI</td>\n",
       "      <td>PA-28</td>\n",
       "      <td>A</td>\n",
       "      <td>LANDING ROLL</td>\n",
       "      <td>WHITE-TAILED DEER</td>\n",
       "      <td>1G11</td>\n",
       "      <td>1</td>\n",
       "      <td>MAMMAL</td>\n",
       "    </tr>\n",
       "    <tr>\n",
       "      <th>26</th>\n",
       "      <td>1990</td>\n",
       "      <td>1</td>\n",
       "      <td>ST. PAUL DOWNTOWN ARPT/HOLMAN FIELD</td>\n",
       "      <td>KSTP</td>\n",
       "      <td>MN</td>\n",
       "      <td>LEARJET-25</td>\n",
       "      <td>A</td>\n",
       "      <td>LANDING ROLL</td>\n",
       "      <td>WHITE-TAILED DEER</td>\n",
       "      <td>1G11</td>\n",
       "      <td>1</td>\n",
       "      <td>MAMMAL</td>\n",
       "    </tr>\n",
       "    <tr>\n",
       "      <th>56</th>\n",
       "      <td>1990</td>\n",
       "      <td>2</td>\n",
       "      <td>ROBT J MILLER AIR PARK</td>\n",
       "      <td>KMJX</td>\n",
       "      <td>NJ</td>\n",
       "      <td>PA-28</td>\n",
       "      <td>A</td>\n",
       "      <td>LANDING ROLL</td>\n",
       "      <td>WHITE-TAILED DEER</td>\n",
       "      <td>1G11</td>\n",
       "      <td>1</td>\n",
       "      <td>MAMMAL</td>\n",
       "    </tr>\n",
       "    <tr>\n",
       "      <th>98</th>\n",
       "      <td>1990</td>\n",
       "      <td>3</td>\n",
       "      <td>PRIVATE AIR STRIP</td>\n",
       "      <td>PVT</td>\n",
       "      <td>CA</td>\n",
       "      <td>PA-J3</td>\n",
       "      <td>A</td>\n",
       "      <td>LANDING ROLL</td>\n",
       "      <td>MULE DEER</td>\n",
       "      <td>1G12</td>\n",
       "      <td>1</td>\n",
       "      <td>MAMMAL</td>\n",
       "    </tr>\n",
       "    <tr>\n",
       "      <th>...</th>\n",
       "      <td>...</td>\n",
       "      <td>...</td>\n",
       "      <td>...</td>\n",
       "      <td>...</td>\n",
       "      <td>...</td>\n",
       "      <td>...</td>\n",
       "      <td>...</td>\n",
       "      <td>...</td>\n",
       "      <td>...</td>\n",
       "      <td>...</td>\n",
       "      <td>...</td>\n",
       "      <td>...</td>\n",
       "    </tr>\n",
       "    <tr>\n",
       "      <th>173990</th>\n",
       "      <td>2015</td>\n",
       "      <td>9</td>\n",
       "      <td>NaN</td>\n",
       "      <td>UNKN</td>\n",
       "      <td>NaN</td>\n",
       "      <td>CRJ700</td>\n",
       "      <td>A</td>\n",
       "      <td>NaN</td>\n",
       "      <td>VESPER BAT</td>\n",
       "      <td>1C21</td>\n",
       "      <td>1</td>\n",
       "      <td>MAMMAL</td>\n",
       "    </tr>\n",
       "    <tr>\n",
       "      <th>173992</th>\n",
       "      <td>2015</td>\n",
       "      <td>9</td>\n",
       "      <td>EL PASO INTL ARPT</td>\n",
       "      <td>KELP</td>\n",
       "      <td>TX</td>\n",
       "      <td>UNKNOWN</td>\n",
       "      <td>NaN</td>\n",
       "      <td>NaN</td>\n",
       "      <td>BLACK-TAILED JACKRABBIT</td>\n",
       "      <td>1D11</td>\n",
       "      <td>1</td>\n",
       "      <td>MAMMAL</td>\n",
       "    </tr>\n",
       "    <tr>\n",
       "      <th>173995</th>\n",
       "      <td>2015</td>\n",
       "      <td>9</td>\n",
       "      <td>RICHMOND INTL</td>\n",
       "      <td>KRIC</td>\n",
       "      <td>VA</td>\n",
       "      <td>CIRRUS SR 20/22</td>\n",
       "      <td>A</td>\n",
       "      <td>APPROACH</td>\n",
       "      <td>COYOTE</td>\n",
       "      <td>1F11</td>\n",
       "      <td>NaN</td>\n",
       "      <td>MAMMAL</td>\n",
       "    </tr>\n",
       "    <tr>\n",
       "      <th>174021</th>\n",
       "      <td>2015</td>\n",
       "      <td>9</td>\n",
       "      <td>NEWARK LIBERTY INTL ARPT</td>\n",
       "      <td>KEWR</td>\n",
       "      <td>NJ</td>\n",
       "      <td>DHC8 DASH 8</td>\n",
       "      <td>A</td>\n",
       "      <td>APPROACH</td>\n",
       "      <td>RED BAT</td>\n",
       "      <td>1C2101</td>\n",
       "      <td>1</td>\n",
       "      <td>MAMMAL</td>\n",
       "    </tr>\n",
       "    <tr>\n",
       "      <th>174056</th>\n",
       "      <td>2015</td>\n",
       "      <td>9</td>\n",
       "      <td>GENERAL DOWNING-PEORIA INTL ARPT</td>\n",
       "      <td>KPIA</td>\n",
       "      <td>IL</td>\n",
       "      <td>UNKNOWN</td>\n",
       "      <td>NaN</td>\n",
       "      <td>NaN</td>\n",
       "      <td>STRIPED SKUNK</td>\n",
       "      <td>1F41</td>\n",
       "      <td>1</td>\n",
       "      <td>MAMMAL</td>\n",
       "    </tr>\n",
       "  </tbody>\n",
       "</table>\n",
       "<p>5145 rows × 12 columns</p>\n",
       "</div>"
      ],
      "text/plain": [
       "        Incident Year  Incident Month                              Airport  \\\n",
       "12               1990               1                     JOHN C TUNE ARPT   \n",
       "20               1990               1                         JACK BARSTOW   \n",
       "26               1990               1  ST. PAUL DOWNTOWN ARPT/HOLMAN FIELD   \n",
       "56               1990               2               ROBT J MILLER AIR PARK   \n",
       "98               1990               3                    PRIVATE AIR STRIP   \n",
       "...               ...             ...                                  ...   \n",
       "173990           2015               9                                  NaN   \n",
       "173992           2015               9                    EL PASO INTL ARPT   \n",
       "173995           2015               9                        RICHMOND INTL   \n",
       "174021           2015               9             NEWARK LIBERTY INTL ARPT   \n",
       "174056           2015               9     GENERAL DOWNING-PEORIA INTL ARPT   \n",
       "\n",
       "       Airport ID State           Aircraft Aircraft Type  Flight Phase  \\\n",
       "12           KJWN    TN  HAWKER-SDLY HS125             A   TAKEOFF RUN   \n",
       "20           KIKW    MI              PA-28             A  LANDING ROLL   \n",
       "26           KSTP    MN         LEARJET-25             A  LANDING ROLL   \n",
       "56           KMJX    NJ              PA-28             A  LANDING ROLL   \n",
       "98            PVT    CA              PA-J3             A  LANDING ROLL   \n",
       "...           ...   ...                ...           ...           ...   \n",
       "173990       UNKN   NaN             CRJ700             A           NaN   \n",
       "173992       KELP    TX            UNKNOWN           NaN           NaN   \n",
       "173995       KRIC    VA    CIRRUS SR 20/22             A      APPROACH   \n",
       "174021       KEWR    NJ        DHC8 DASH 8             A      APPROACH   \n",
       "174056       KPIA    IL            UNKNOWN           NaN           NaN   \n",
       "\n",
       "                   Species Name Species ID Species Quantity Animal_Kingdom  \n",
       "12            WHITE-TAILED DEER       1G11             2-10         MAMMAL  \n",
       "20            WHITE-TAILED DEER       1G11                1         MAMMAL  \n",
       "26            WHITE-TAILED DEER       1G11                1         MAMMAL  \n",
       "56            WHITE-TAILED DEER       1G11                1         MAMMAL  \n",
       "98                    MULE DEER       1G12                1         MAMMAL  \n",
       "...                         ...        ...              ...            ...  \n",
       "173990               VESPER BAT       1C21                1         MAMMAL  \n",
       "173992  BLACK-TAILED JACKRABBIT       1D11                1         MAMMAL  \n",
       "173995                   COYOTE       1F11              NaN         MAMMAL  \n",
       "174021                  RED BAT     1C2101                1         MAMMAL  \n",
       "174056            STRIPED SKUNK       1F41                1         MAMMAL  \n",
       "\n",
       "[5145 rows x 12 columns]"
      ]
     },
     "execution_count": 26,
     "metadata": {},
     "output_type": "execute_result"
    }
   ],
   "source": [
    "# Alyssa ^^^\n",
    "# subset_wkingdom_df.groupby(['Flight Phase', 'Animal_Kingdom'])\n",
    "# subset_wkingdom_df.loc[subset_df[\"Species ID\"].str.startswith('1',na=False)]\n",
    "\n",
    "#subset_df.loc[subset_df[\"Species Name\"] == \"Moose\"]"
   ]
  },
  {
   "cell_type": "code",
   "execution_count": null,
   "metadata": {},
   "outputs": [],
   "source": []
  },
  {
   "cell_type": "code",
   "execution_count": null,
   "metadata": {},
   "outputs": [],
   "source": []
  }
 ],
 "metadata": {
  "kernelspec": {
   "display_name": "Python 3",
   "language": "python",
   "name": "python3"
  },
  "language_info": {
   "codemirror_mode": {
    "name": "ipython",
    "version": 3
   },
   "file_extension": ".py",
   "mimetype": "text/x-python",
   "name": "python",
   "nbconvert_exporter": "python",
   "pygments_lexer": "ipython3",
   "version": "3.6.10"
  }
 },
 "nbformat": 4,
 "nbformat_minor": 2
}
