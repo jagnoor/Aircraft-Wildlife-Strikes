{
 "cells": [
  {
   "cell_type": "markdown",
   "metadata": {},
   "source": [
    "### File 1\n",
    "    *Which bird is the most dangerous 1990-2014?\n",
    "    *Which month of the year has most animal strikes 1990-2014?\n",
    "    *Which state has the most animal strikes 1990-2015?\n",
    "    *Which airport has the most animal strikes 1990-2015?"
   ]
  },
  {
   "cell_type": "markdown",
   "metadata": {},
   "source": [
    "\n",
    "  \n"
   ]
  },
  {
   "cell_type": "code",
   "execution_count": null,
   "metadata": {},
   "outputs": [],
   "source": [
    "import matplotlib.pyplot as plt\n",
    "import csv\n",
    "import pandas as pd\n",
    "import numpy as np\n",
    "import scipy.stats as stats\n",
    "warnings.filterwarnings('ignore')"
   ]
  },
  {
   "cell_type": "code",
   "execution_count": null,
   "metadata": {},
   "outputs": [],
   "source": [
    "file_path = 'Data/database.csv'\n",
    "df = pd.read_csv(file_path, low_memory=False)  #low memory imput to avoid warning message\n",
    "# df.info()\n",
    "# column notes:\n",
    "# Species Quantity values: '1', '2-10', nan, '11-100', 'Over 100' "
   ]
  },
  {
   "cell_type": "code",
   "execution_count": null,
   "metadata": {},
   "outputs": [],
   "source": [
    "subset_df = df[[\"Incident Year\",\"Incident Month\",\"Airport\",\"Airport ID\", \"State\",\"Aircraft\",\"Aircraft Type\", \"Flight Phase\", \"Species Name\",\"Species ID\",\"Species Quantity\"]]\n",
    "subset_df.to_csv(\"Data/data_subset.csv\")\n"
   ]
  },
  {
   "cell_type": "markdown",
   "metadata": {},
   "source": [
    "# Which bird is the most dangerous 1990-2014?"
   ]
  },
  {
   "cell_type": "code",
   "execution_count": null,
   "metadata": {},
   "outputs": [],
   "source": [
    "#removing \"unknown\" bird species, removing partial year data for 2015\n",
    "birdType_df = subset_df[[\"Species Name\",\"Species ID\",\"Species Quantity\"]].loc[(subset_df[\"Species Name\"]!= \"UNKNOWN MEDIUM BIRD\") & (subset_df[\"Species Name\"]!= \"UNKNOWN SMALL BIRD\") \n",
    "                                                                              & (subset_df[\"Species Name\"]!= \"UNKNOWN LARGE BIRD\") & (subset_df[\"Species Name\"]!= \"UNKNOWN BIRD\")\n",
    "                                                                              & (subset_df[\"Incident Year\"]!= 2015)]\n",
    "\n",
    "\n",
    "# todo add labels, pretty up.  add thoughts on results\n",
    "birdCounts = birdType_df[\"Species Name\"].value_counts()\n",
    "\n",
    "y_axis = birdCounts[:10]  \n",
    "x_axis = birdCounts.index[:10]\n",
    "\n",
    "# plt.figure(figsize=(10,5))\n",
    "plt.bar(x_axis, y_axis, color = \"green\")\n",
    "plt.tight_layout()  \n",
    "tick_locations = [value for value in x_axis]\n",
    "plt.xticks(tick_locations,birdCounts.index[:10], rotation=\"vertical\")\n",
    "\n",
    "plt.xlabel('Bird Name', fontsize = 20) # Label the x axis \n",
    "plt.ylabel(\"Number of Bird Strikes \", fontsize = 20)  # Label the y axis\n",
    "plt.title(\" Which bird is the most dangerous 1990-2014? aka Mourning Dove \", fontsize = 20)\n",
    "\n",
    "for i in range(len(y_axis)):\n",
    "    plt.annotate(str(y_axis[i]), xy=(x_axis[i],y_axis[i]), ha='center', va='bottom', fontsize = 20)\n",
    "\n",
    "\n",
    "figure = plt.gcf()\n",
    "\n",
    "figure.set_size_inches(12, 20)\n",
    "\n",
    "plt.savefig(\"Images/DangerousMourningDove.png\", dpi=500) # TODO The legend and axis names are put in the saved image.\n",
    "\n",
    "plt.show() \n",
    " \n",
    "\n",
    "# TODO Add Data Labels and name all axis - DONE \n",
    "# Write a observation summary for the graph. - DONE "
   ]
  },
  {
   "cell_type": "markdown",
   "metadata": {},
   "source": [
    "Mourning doves are the most common species of bird struck by aircrafts in USA. Followed closely by Gull. "
   ]
  },
  {
   "cell_type": "markdown",
   "metadata": {},
   "source": [
    "### Which month of the year has most animal strikes?\n",
    "\n"
   ]
  },
  {
   "cell_type": "markdown",
   "metadata": {
    "scrolled": true
   },
   "source": [
    "\n"
   ]
  },
  {
   "cell_type": "code",
   "execution_count": null,
   "metadata": {},
   "outputs": [],
   "source": [
    "#### Which month of the year has most animal strikes?  - Jag \n",
    "\n",
    "#removing \"unknown\" bird species, removing partial year data for 2015\n",
    "monthType_df = subset_df[[\"Incident Year\",\"Incident Month\",\"Species Quantity\",\"Aircraft\"]].loc[(subset_df[\"Incident Year\"]!= 2015)]\n",
    "\n",
    "\n",
    "# todo add labels, pretty up.  add thoughts on results\n",
    "\n",
    "fig, ax = plt.subplots(figsize=(24,10))\n",
    "ax.set_xlabel('Months (1-12)', fontsize = 20)\n",
    "ax.set_ylabel('Number of Incidents', fontsize = 20)\n",
    "monthType_df.groupby(['Incident Month','Incident Year']).count()['Aircraft'].unstack().plot(ax=ax, fontsize = 20)\n",
    "plt.title(\"Which month of the year has most animal strikes per year?\", fontsize = 20)\n",
    "plt.savefig(\"Images/AugustReallySucks.png\", dpi=500) # TODO The legend and axis names are put in the saved image.\n",
    "ax.legend(loc='upper left', frameon=True, fancybox=True, framealpha=1, shadow=True, borderpad=1, fontsize = 12)\n",
    "plt.show()"
   ]
  },
  {
   "cell_type": "markdown",
   "metadata": {},
   "source": [
    "Majority of bird strikes occur from July to October which is when young birds recently have fledged from nests and fall migration occurs. August is by far the most dangerous month."
   ]
  },
  {
   "cell_type": "code",
   "execution_count": null,
   "metadata": {},
   "outputs": [],
   "source": [
    "#jag\n",
    "fig, ax = plt.subplots(figsize=(15,7))\n",
    "ax.set_xlabel('Months (1-12)', fontsize = 20)\n",
    "ax.set_ylabel('Number of Incidents', fontsize = 20)\n",
    "plt.title(\"Which month of the year has most animal strikes?\", fontsize = 20)\n",
    "df.groupby(['Incident Month']).count()['Aircraft'].plot(ax=ax)\n",
    "plt.grid()\n",
    "plt.show()"
   ]
  },
  {
   "cell_type": "markdown",
   "metadata": {},
   "source": [
    "## Hypothesis Testing\n",
    "\n",
    "The null hypothesis  is that no relationship exists on the categorical variables in the population; they are independent. "
   ]
  },
  {
   "cell_type": "code",
   "execution_count": null,
   "metadata": {},
   "outputs": [],
   "source": [
    "grouped_month = monthType_df.groupby(['Incident Month']).count()\n",
    "grouped_month_count = grouped_month['Incident Year'].to_frame().reset_index().rename(columns={\"Incident Year\":\"Count\"})\n",
    "grouped_month_count['Expected']=len(monthType_df['Incident Year'])/12\n",
    "\n",
    "stats.chisquare(grouped_month_count['Count'], grouped_month_count['Expected'])"
   ]
  },
  {
   "cell_type": "code",
   "execution_count": null,
   "metadata": {},
   "outputs": [],
   "source": [
    "bins = [0, 3, 6, 9, 12]\n",
    "bin_labels = ['Winter', 'Spring', 'Summer', 'Fall']\n",
    "binned_df=pd.cut(monthType_df[\"Incident Month\"], bins, labels=bin_labels)\n",
    "binned_df\n",
    "monthType_df['Season']=binned_df\n",
    "monthType_df['Counter']=1\n",
    "\n",
    "# Winter_df = monthType_df[[\"Season\",\"Counter\"]].loc[(monthType_df[\"Season\"] == \"Winter\")]\n",
    "# Spring_df = monthType_df[[\"Season\",\"Counter\"]].loc[(monthType_df[\"Season\"] == \"Spring\")]\n",
    "# Summer_df = monthType_df[[\"Season\",\"Counter\"]].loc[(monthType_df[\"Season\"] == \"Summer\")]\n",
    "# Fall_df = monthType_df[[\"Season\",\"Counter\"]].loc[(monthType_df[\"Season\"] == \"Fall\")]\n",
    "monthType_df\n",
    "grouped_season = monthType_df.groupby(['Season']).count().reset_index()\n",
    "\n",
    "grouped_season['Expected']=len(monthType_df['Counter'])/4\n",
    "grouped_season"
   ]
  },
  {
   "cell_type": "code",
   "execution_count": null,
   "metadata": {},
   "outputs": [],
   "source": [
    "#Chi Square test\n",
    "stats.chisquare(grouped_season['Counter'], grouped_season['Expected'])"
   ]
  },
  {
   "cell_type": "code",
   "execution_count": null,
   "metadata": {},
   "outputs": [],
   "source": [
    "Spring_Fall=grouped_season.loc[(grouped_season['Season']=='Spring') | (grouped_season['Season']=='Fall')]\n",
    "stats.chisquare(Spring_Fall['Counter'], Spring_Fall['Expected'])"
   ]
  },
  {
   "cell_type": "markdown",
   "metadata": {},
   "source": [
    "Null Hypothesis: All months have the same number of strikes; All seasons have the same number of strikes\n",
    "The Chi Square tests showed that there was a statistically significant difference between the number of animal strikes per month (p=0.0)\n",
    "The Chi Square tests showed that there was a statistically significant difference between the number of animal strikes per season (p=0.0)\n",
    "\n",
    "Based on the p=0.0 , the hypothesis cannot be rejected. "
   ]
  },
  {
   "cell_type": "markdown",
   "metadata": {},
   "source": [
    "## Which airport or geographic area is more likely to crash?\n",
    "\n",
    "\n"
   ]
  },
  {
   "cell_type": "code",
   "execution_count": null,
   "metadata": {},
   "outputs": [],
   "source": [
    "#Molly\n",
    "state_df = subset_df.groupby(['State'], as_index='True')\n",
    "state_grouping_count = pd.DataFrame(state_df['Incident Year'].count())\n",
    "state_grouping_count = state_grouping_count.sort_values('Incident Year', ascending = False)\n",
    "state_grouping_count"
   ]
  },
  {
   "cell_type": "code",
   "execution_count": null,
   "metadata": {},
   "outputs": [],
   "source": [
    "x_axis = state_grouping_count.index\n",
    "y_axis = state_grouping_count['Incident Year']\n",
    "\n",
    "plt.figure(figsize=(40,10))\n",
    "plt.bar(x_axis, y_axis)\n",
    "plt.xlabel('State or Province', fontsize = 20) # Label the x axis \n",
    "plt.ylabel(\"Number of Animal Strikes \", fontsize = 20)  # Label the y axis\n",
    "plt.title(\"Number of Animal Strikes to Aircraft per US State or Canadian Province (1990-2015)\", fontsize = 20)\n",
    "\n",
    "for i in range(len(y_axis)):\n",
    "    plt.annotate(str(y_axis[i]), xy=(x_axis[i],y_axis[i]), ha='center', va='bottom', fontsize = 12)\n",
    "    \n",
    "plt.savefig(\"Images/StrikesPerStateNA.png\", dpi=1000) \n",
    "\n",
    "plt.show()\n",
    "\n"
   ]
  },
  {
   "cell_type": "markdown",
   "metadata": {},
   "source": [
    "Which state or province led to the most animal strikes by aircraft between 1990 and 2015?\n",
    "Texas, California, and Florida were the three states that reported the most animal strikes reporting over 10,000 strikes each.\n",
    "Nova Scotia, Saskatchewan, and Newfoundland and Labaroador were the three providences that reported the fewest animal strikes with fewer than ten strikes each."
   ]
  },
  {
   "cell_type": "code",
   "execution_count": null,
   "metadata": {},
   "outputs": [],
   "source": [
    "airport_df = subset_df.loc[subset_df['Airport'] != 'UNKNOWN', :]\n",
    "airport_grouping_count = airport_df.groupby(['Airport']).count().sort_values('Incident Year', ascending = False)\n",
    "airport_grouping_count.head()\n",
    "\n",
    "x_axis = airport_grouping_count.index[:10]\n",
    "y_axis = airport_grouping_count['Incident Year'][:10]\n",
    "\n",
    "plt.figure(figsize=(20,25))\n",
    "plt.bar(x_axis, y_axis)\n",
    "plt.xlabel('Airport', fontsize = 20) # Label the x axis \n",
    "plt.ylabel(\"Number of Animal Strikes \", fontsize = 20)  # Label the y axis\n",
    "plt.title(\"Top 10 Airports Involved in Animal Strikes to Aircraft (1990-2015)\", fontsize = 20)\n",
    "tick_locations = [value for value in x_axis]\n",
    "plt.xticks(tick_locations,x_axis, rotation=\"vertical\")\n",
    "\n",
    "for i in range(len(y_axis)):\n",
    "    plt.annotate(str(y_axis[i]), xy=(x_axis[i],y_axis[i]), ha='center', va='bottom', fontsize = 20)\n",
    "    \n",
    "plt.savefig(\"Images/Top10AirportsNA.png\", dpi=500) \n",
    "plt.show()\n"
   ]
  },
  {
   "cell_type": "markdown",
   "metadata": {},
   "source": [
    "Which airports reported the most animal strikes between 1990 and 2015?\n",
    "The top ten airports involved in animal strikes during these 25 years were Denver International, Dallas/Fort Worth\n",
    "International, O'Hare, JFK, Memphis International, Sacremento International, Salt Lake City International, Orlando International, La Guardia, and Philedelphia International reporting between 2045-5434 airstrikes per airport."
   ]
  }
 ],
 "metadata": {
  "kernelspec": {
   "display_name": "Python 3",
   "language": "python",
   "name": "python3"
  },
  "language_info": {
   "codemirror_mode": {
    "name": "ipython",
    "version": 3
   },
   "file_extension": ".py",
   "mimetype": "text/x-python",
   "name": "python",
   "nbconvert_exporter": "python",
   "pygments_lexer": "ipython3",
   "version": "3.6.10"
  }
 },
 "nbformat": 4,
 "nbformat_minor": 2
}
