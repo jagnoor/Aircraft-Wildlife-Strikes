{
 "cells": [
  {
   "cell_type": "markdown",
   "metadata": {},
   "source": [
    "### Reminder:  Clear output before saving for commit.\n",
    "otherwise merging will suck.\n",
    "\n",
    "Molly and Alyssa will mostly work in this file"
   ]
  },
  {
   "cell_type": "markdown",
   "metadata": {},
   "source": [
    "Main project requirements:\n",
    "  * few plots per question 2 per question 6-8 plots in total\n",
    "  * heading for each q and summary of findings under q\n",
    "  * at least 1 linear regression on at least Q4."
   ]
  },
  {
   "cell_type": "code",
   "execution_count": null,
   "metadata": {},
   "outputs": [],
   "source": [
    "import matplotlib.pyplot as plt\n",
    "import csv\n",
    "import pandas as pd\n",
    "import numpy as np"
   ]
  },
  {
   "cell_type": "code",
   "execution_count": null,
   "metadata": {},
   "outputs": [],
   "source": [
    "file_path = 'Data/database.csv'\n",
    "df = pd.read_csv(file_path, low_memory=False)  #low memory imput to avoid warning message\n",
    "df.info()\n",
    "# column notes:\n",
    "# Species Quantity values: '1', '2-10', nan, '11-100', 'Over 100' "
   ]
  },
  {
   "cell_type": "code",
   "execution_count": null,
   "metadata": {},
   "outputs": [],
   "source": [
    "subset_df = df[[\"Incident Year\",\"Incident Month\",\"Airport\",\"Airport ID\", \"State\",\"Aircraft\",\"Aircraft Type\", \"Flight Phase\", \"Species Name\",\"Species ID\",\"Species Quantity\"]]\n",
    "subset_df.to_csv(\"Data/data_subset.csv\")"
   ]
  },
  {
   "cell_type": "markdown",
   "metadata": {},
   "source": [
    "# Which bird is the most dangerous 1990-2014?"
   ]
  },
  {
   "cell_type": "code",
   "execution_count": null,
   "metadata": {},
   "outputs": [],
   "source": [
    "#removing \"unknown\" bird species, removing partial year data for 2015\n",
    "birdType_df = subset_df[[\"Species Name\",\"Species ID\",\"Species Quantity\"]].loc[(subset_df[\"Species Name\"]!= \"UNKNOWN MEDIUM BIRD\") & (subset_df[\"Species Name\"]!= \"UNKNOWN SMALL BIRD\") \n",
    "                                                                              & (subset_df[\"Species Name\"]!= \"UNKNOWN LARGE BIRD\") & (subset_df[\"Species Name\"]!= \"UNKNOWN BIRD\")\n",
    "                                                                              & (subset_df[\"Incident Year\"]!= 2015)]\n",
    "\n",
    "\n",
    "# todo add labels, pretty up.  add thoughts on results\n",
    "birdCounts = birdType_df[\"Species Name\"].value_counts()\n",
    "tick_locations = [value for value in x_axis]\n",
    "y_axis = birdCounts[:10]  \n",
    "x_axis = birdCounts.index[:10]\n",
    "\n",
    "plt.figure(figsize=(10,5))\n",
    "plt.bar(x_axis, y_axis, color = \"green\")\n",
    "plt.tight_layout()  \n",
    "plt.xticks(tick_locations,birdCounts.index[:10], rotation=\"vertical\")\n",
    "\n",
    "plt.show()\n"
   ]
  },
  {
   "cell_type": "code",
   "execution_count": null,
   "metadata": {
    "scrolled": true
   },
   "outputs": [],
   "source": []
  },
  {
   "cell_type": "code",
   "execution_count": null,
   "metadata": {},
   "outputs": [],
   "source": []
  },
  {
   "cell_type": "code",
   "execution_count": null,
   "metadata": {},
   "outputs": [],
   "source": []
  },
  {
   "cell_type": "code",
   "execution_count": null,
   "metadata": {},
   "outputs": [],
   "source": [
    "# Jag's \\/\\/\\/"
   ]
  },
  {
   "cell_type": "code",
   "execution_count": null,
   "metadata": {},
   "outputs": [],
   "source": [
    "# Jag's ^^^"
   ]
  },
  {
   "cell_type": "code",
   "execution_count": null,
   "metadata": {},
   "outputs": [],
   "source": [
    "# Molly \\/\\/\\/"
   ]
  },
  {
   "cell_type": "code",
   "execution_count": null,
   "metadata": {},
   "outputs": [],
   "source": [
    "# Molly ^^^"
   ]
  },
  {
   "cell_type": "code",
   "execution_count": null,
   "metadata": {},
   "outputs": [],
   "source": [
    "# Selom \\/\\/\\/"
   ]
  },
  {
   "cell_type": "code",
   "execution_count": null,
   "metadata": {},
   "outputs": [],
   "source": [
    "# Selom ^^^"
   ]
  },
  {
   "cell_type": "code",
   "execution_count": null,
   "metadata": {},
   "outputs": [],
   "source": [
    "# Alyssa  \\/\\/\\/"
   ]
  },
  {
   "cell_type": "code",
   "execution_count": null,
   "metadata": {},
   "outputs": [],
   "source": [
    "# Alyssa ^^^"
   ]
  }
 ],
 "metadata": {
  "kernelspec": {
   "display_name": "Python 3",
   "language": "python",
   "name": "python3"
  },
  "language_info": {
   "codemirror_mode": {
    "name": "ipython",
    "version": 3
   },
   "file_extension": ".py",
   "mimetype": "text/x-python",
   "name": "python",
   "nbconvert_exporter": "python",
   "pygments_lexer": "ipython3",
   "version": "3.6.10"
  }
 },
 "nbformat": 4,
 "nbformat_minor": 2
}
