{
 "cells": [
  {
   "cell_type": "markdown",
   "metadata": {},
   "source": [
    "### Reminder:  Clear output before saving for commit.\n",
    "otherwise merging will suck.\n",
    "\n",
    "Molly and Alyssa will mostly work in this file"
   ]
  },
  {
   "cell_type": "markdown",
   "metadata": {},
   "source": [
    "Main project requirements:\n",
    "  * few plots per question 2 per question 6-8 plots in total\n",
    "  * heading for each q and summary of findings under q\n",
    "  * at least 1 linear regression on at least Q4.\n",
    "  \n"
   ]
  },
  {
   "cell_type": "code",
   "execution_count": null,
   "metadata": {},
   "outputs": [],
   "source": [
    "import matplotlib.pyplot as plt\n",
    "import csv\n",
    "import pandas as pd\n",
    "import numpy as np\n",
    "import seaborn as sns "
   ]
  },
  {
   "cell_type": "code",
   "execution_count": null,
   "metadata": {},
   "outputs": [],
   "source": [
    "file_path = 'Data/database.csv'\n",
    "df = pd.read_csv(file_path, low_memory=False)  #low memory imput to avoid warning message\n",
    "# df.info()\n",
    "# column notes:\n",
    "# Species Quantity values: '1', '2-10', nan, '11-100', 'Over 100' "
   ]
  },
  {
   "cell_type": "code",
   "execution_count": null,
   "metadata": {},
   "outputs": [],
   "source": [
    "subset_df = df[[\"Incident Year\",\"Incident Month\",\"Airport\",\"Airport ID\", \"State\",\"Aircraft\",\"Aircraft Type\", \"Flight Phase\", \"Species Name\",\"Species ID\",\"Species Quantity\"]]\n",
    "subset_df.to_csv(\"Data/data_subset.csv\")\n"
   ]
  },
  {
   "cell_type": "markdown",
   "metadata": {},
   "source": [
    "# Which bird is the most dangerous 1990-2014?"
   ]
  },
  {
   "cell_type": "code",
   "execution_count": null,
   "metadata": {},
   "outputs": [],
   "source": [
    "#removing \"unknown\" bird species, removing partial year data for 2015\n",
    "birdType_df = subset_df[[\"Species Name\",\"Species ID\",\"Species Quantity\"]].loc[(subset_df[\"Species Name\"]!= \"UNKNOWN MEDIUM BIRD\") & (subset_df[\"Species Name\"]!= \"UNKNOWN SMALL BIRD\") \n",
    "                                                                              & (subset_df[\"Species Name\"]!= \"UNKNOWN LARGE BIRD\") & (subset_df[\"Species Name\"]!= \"UNKNOWN BIRD\")\n",
    "                                                                              & (subset_df[\"Incident Year\"]!= 2015)]\n",
    "\n",
    "\n",
    "# todo add labels, pretty up.  add thoughts on results\n",
    "birdCounts = birdType_df[\"Species Name\"].value_counts()\n",
    "\n",
    "y_axis = birdCounts[:10]  \n",
    "x_axis = birdCounts.index[:10]\n",
    "\n",
    "# plt.figure(figsize=(10,5))\n",
    "plt.bar(x_axis, y_axis, color = \"green\")\n",
    "plt.tight_layout()  \n",
    "tick_locations = [value for value in x_axis]\n",
    "plt.xticks(tick_locations,birdCounts.index[:10], rotation=\"vertical\")\n",
    "\n",
    "plt.xlabel('Bird Name') # Label the x axis \n",
    "plt.ylabel(\"Number of Bird Strikes \")  # Label the y axis\n",
    "plt.title(\" Which bird is the most dangerous 1990-2014? aka Mourning Dove \")\n",
    "\n",
    "for i in range(len(y_axis)):\n",
    "    plt.annotate(str(y_axis[i]), xy=(x_axis[i],y_axis[i]), ha='center', va='bottom')\n",
    "\n",
    "\n",
    "figure = plt.gcf()\n",
    "\n",
    "figure.set_size_inches(12, 20)\n",
    "\n",
    "plt.savefig(\"Images/DangerousMourningDove.png\", dpi=500) # TODO The legend and axis names are put in the saved image.\n",
    "\n",
    "plt.show() \n",
    " \n",
    "\n",
    "# TODO Add Data Labels and name all axis - DONE \n",
    "# Write a observation summary for the graph. "
   ]
  },
  {
   "cell_type": "markdown",
   "metadata": {},
   "source": [
    "### Which month of the year has most animal strikes?\n",
    "\n"
   ]
  },
  {
   "cell_type": "markdown",
   "metadata": {
    "scrolled": true
   },
   "source": [
    "\n"
   ]
  },
  {
   "cell_type": "code",
   "execution_count": null,
   "metadata": {},
   "outputs": [],
   "source": [
    "# subset_df"
   ]
  },
  {
   "cell_type": "code",
   "execution_count": null,
   "metadata": {},
   "outputs": [],
   "source": [
    "numberofthings = df['Species Name'].unique()\n",
    "len(numberofthings)"
   ]
  },
  {
   "cell_type": "code",
   "execution_count": null,
   "metadata": {},
   "outputs": [],
   "source": [
    "#### Which month of the year has most animal strikes?  - Jag \n",
    "\n",
    "#removing \"unknown\" bird species, removing partial year data for 2015\n",
    "monthType_df = subset_df[[\"Incident Year\",\"Incident Month\",\"Species Quantity\",\"Aircraft\"]].loc[(subset_df[\"Species Name\"]!= \"UNKNOWN MEDIUM BIRD\") & (subset_df[\"Species Name\"]!= \"UNKNOWN SMALL BIRD\") \n",
    "                                                                              & (subset_df[\"Species Name\"]!= \"UNKNOWN LARGE BIRD\") & (subset_df[\"Species Name\"]!= \"UNKNOWN BIRD\")\n",
    "                                                                              & (subset_df[\"Incident Year\"]!= 2015)]\n",
    "\n",
    "\n",
    "# todo add labels, pretty up.  add thoughts on results\n",
    "\n",
    "fig, ax = plt.subplots(figsize=(24,10))\n",
    "ax.set_xlabel('Months (1-12)')\n",
    "ax.set_ylabel('Number of Incidents')\n",
    "monthType_df.groupby(['Incident Month','Incident Year']).count()['Aircraft'].unstack().plot(ax=ax,title= 'Which month of the year has most animal strikes?' )         \n",
    "plt.savefig(\"Images/AugustReallySucks.png\", dpi=500) # TODO The legend and axis names are put in the saved image.\n",
    "ax.legend(loc='upper left', frameon=True, fancybox=True, framealpha=1, shadow=True, borderpad=1)\n",
    "plt.show()\n"
   ]
  },
  {
   "cell_type": "code",
   "execution_count": null,
   "metadata": {},
   "outputs": [],
   "source": [
    "#jag\n",
    "fig, ax = plt.subplots(figsize=(15,7))\n",
    "ax.set_xlabel('Months (1-12)')\n",
    "ax.set_ylabel('Number of Incidents')\n",
    "df.groupby(['Incident Month']).count()['Aircraft'].plot(ax=ax)\n",
    "plt.show()\n",
    "#Add a grid to make it obvious Aug is the most dangerous month "
   ]
  },
  {
   "cell_type": "code",
   "execution_count": null,
   "metadata": {},
   "outputs": [],
   "source": [
    "#jag"
   ]
  },
  {
   "cell_type": "code",
   "execution_count": null,
   "metadata": {},
   "outputs": [],
   "source": [
    "#jag <DO NOT CODE ABOVE THIS LINE> "
   ]
  },
  {
   "cell_type": "code",
   "execution_count": null,
   "metadata": {},
   "outputs": [],
   "source": [
    "# Which airport or geographic area is more likely to crash? - Molly (try a stacked graph) \n",
    "\n",
    "\n"
   ]
  },
  {
   "cell_type": "code",
   "execution_count": null,
   "metadata": {},
   "outputs": [],
   "source": [
    "state_df = subset_df.groupby(['State'], as_index='True')\n",
    "state_grouping_count = pd.DataFrame(state_df['Incident Year'].count())\n",
    "state_grouping_count = state_grouping_count.sort_values('Incident Year', ascending = False)\n",
    "state_grouping_count"
   ]
  },
  {
   "cell_type": "code",
   "execution_count": null,
   "metadata": {},
   "outputs": [],
   "source": [
    "x_axis = state_grouping_count.index\n",
    "y_axis = state_grouping_count['Incident Year']\n",
    "\n",
    "plt.figure(figsize=(30,5))\n",
    "plt.bar(x_axis, y_axis)\n",
    "plt.xlabel('State or Province') # Label the x axis \n",
    "plt.ylabel(\"Number of Animal Strikes \")  # Label the y axis\n",
    "plt.title(\"Number of Animal Strikes to Aircraft per US State or Canadian Province (1990-2015)\")\n",
    "\n",
    "for i in range(len(y_axis)):\n",
    "    plt.annotate(str(y_axis[i]), xy=(x_axis[i],y_axis[i]), ha='center', va='bottom')\n",
    "    \n",
    "plt.savefig(\"Images/StrikesPerStateNA.png\", dpi=500) # TODO The legend and axis names are put in the saved image.\n",
    "\n",
    "plt.show()\n",
    "\n",
    "#Which state or province led to the most animal strikes by aircraft between 1990 and 2015?\n",
    "#Texas, California, and Florida were the three states that reported the most animal strikes reporting over 10,000 strikes each.\n",
    "#Nova Scotia, Saskatchewan, and Newfoundland and Labaroador were the three providences that reported the fewest\n",
    "#animal strikes with fewer than ten strikes each."
   ]
  },
  {
   "cell_type": "code",
   "execution_count": null,
   "metadata": {},
   "outputs": [],
   "source": [
    "airport_df = subset_df.loc[subset_df['Airport'] != 'UNKNOWN', :]\n",
    "airport_grouping_count = airport_df.groupby(['Airport']).count().sort_values('Incident Year', ascending = False)\n",
    "airport_grouping_count.head()\n",
    "\n",
    "x_axis = airport_grouping_count.index[:10]\n",
    "y_axis = airport_grouping_count['Incident Year'][:10]\n",
    "\n",
    "plt.figure(figsize=(20,25))\n",
    "plt.bar(x_axis, y_axis)\n",
    "plt.xlabel('Airport') # Label the x axis \n",
    "plt.ylabel(\"Number of Animal Strikes \")  # Label the y axis\n",
    "plt.title(\"Top 10 Airports Involved in Animal Strikes to Aircraft (1990-2015)\")\n",
    "tick_locations = [value for value in x_axis]\n",
    "plt.xticks(tick_locations,x_axis, rotation=\"vertical\")\n",
    "\n",
    "for i in range(len(y_axis)):\n",
    "    plt.annotate(str(y_axis[i]), xy=(x_axis[i],y_axis[i]), ha='center', va='bottom')\n",
    "    \n",
    "plt.savefig(\"Images/Top10AirportsNA.png\", dpi=1000) # TODO The legend and axis names are put in the saved image.\n",
    "plt.show()\n",
    "#Which airports reported the most animal strikes between 1990 and 2015?\n",
    "#The top ten airports involved in animal strikes during these 25 years were Denver International, Dallas/Fort Worth\n",
    "#International, O'Hare, JFK, Memphis International, Sacremento International, Salt Lake City International, Orlando International,\n",
    "#La Guardia, and Philedelphia International reporting between 2045-5434 airstrikes per airport."
   ]
  },
  {
   "cell_type": "code",
   "execution_count": null,
   "metadata": {},
   "outputs": [],
   "source": [
    "# Molly ^^^"
   ]
  }
 ],
 "metadata": {
  "kernelspec": {
   "display_name": "Python 3",
   "language": "python",
   "name": "python3"
  },
  "language_info": {
   "codemirror_mode": {
    "name": "ipython",
    "version": 3
   },
   "file_extension": ".py",
   "mimetype": "text/x-python",
   "name": "python",
   "nbconvert_exporter": "python",
   "pygments_lexer": "ipython3",
   "version": "3.6.10"
  }
 },
 "nbformat": 4,
 "nbformat_minor": 2
}
