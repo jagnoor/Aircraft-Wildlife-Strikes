{
 "cells": [
  {
   "cell_type": "markdown",
   "metadata": {},
   "source": [
    "### Reminder:  Clear output before saving for commit.\n",
    "otherwise merging will suck.\n",
    "\n",
    "Molly and Alyssa will mostly work in this file"
   ]
  },
  {
   "cell_type": "markdown",
   "metadata": {},
   "source": [
    "Main project requirements:\n",
    "  * few plots per question 2 per question 6-8 plots in total\n",
    "  * heading for each q and summary of findings under q\n",
    "  * at least 1 linear regression on at least Q4."
   ]
  },
  {
   "cell_type": "code",
<<<<<<< HEAD
   "execution_count": 1,
=======
   "execution_count": null,
>>>>>>> main
   "metadata": {},
   "outputs": [],
   "source": [
    "import matplotlib.pyplot as plt\n",
    "import csv\n",
    "import pandas as pd\n",
    "import numpy as np"
   ]
  },
  {
   "cell_type": "code",
<<<<<<< HEAD
   "execution_count": 2,
   "metadata": {},
   "outputs": [
    {
     "name": "stdout",
     "output_type": "stream",
     "text": [
      "<class 'pandas.core.frame.DataFrame'>\n",
      "RangeIndex: 174104 entries, 0 to 174103\n",
      "Data columns (total 66 columns):\n",
      " #   Column                Non-Null Count   Dtype  \n",
      "---  ------                --------------   -----  \n",
      " 0   Record ID             174104 non-null  int64  \n",
      " 1   Incident Year         174104 non-null  int64  \n",
      " 2   Incident Month        174104 non-null  int64  \n",
      " 3   Incident Day          174104 non-null  int64  \n",
      " 4   Operator ID           174104 non-null  object \n",
      " 5   Operator              174104 non-null  object \n",
      " 6   Aircraft              174104 non-null  object \n",
      " 7   Aircraft Type         133074 non-null  object \n",
      " 8   Aircraft Make         131051 non-null  object \n",
      " 9   Aircraft Model        122439 non-null  object \n",
      " 10  Aircraft Mass         127320 non-null  float64\n",
      " 11  Engine Make           123434 non-null  float64\n",
      " 12  Engine Model          121988 non-null  object \n",
      " 13  Engines               127342 non-null  float64\n",
      " 14  Engine Type           127282 non-null  object \n",
      " 15  Engine1 Position      126193 non-null  object \n",
      " 16  Engine2 Position      118715 non-null  float64\n",
      " 17  Engine3 Position      11659 non-null   object \n",
      " 18  Engine4 Position      3092 non-null    float64\n",
      " 19  Airport ID            174104 non-null  object \n",
      " 20  Airport               173814 non-null  object \n",
      " 21  State                 152128 non-null  object \n",
      " 22  FAA Region            155202 non-null  object \n",
      " 23  Warning Issued        76418 non-null   object \n",
      " 24  Flight Phase          118802 non-null  object \n",
      " 25  Visibility            109933 non-null  object \n",
      " 26  Precipitation         88322 non-null   object \n",
      " 27  Height                103677 non-null  float64\n",
      " 28  Speed                 71258 non-null   float64\n",
      " 29  Distance              99713 non-null   float64\n",
      " 30  Species ID            174104 non-null  object \n",
      " 31  Species Name          174024 non-null  object \n",
      " 32  Species Quantity      169627 non-null  object \n",
      " 33  Flight Impact         99465 non-null   object \n",
      " 34  Fatalities            565 non-null     float64\n",
      " 35  Injuries              229 non-null     float64\n",
      " 36  Aircraft Damage       174104 non-null  int64  \n",
      " 37  Radome Strike         174104 non-null  int64  \n",
      " 38  Radome Damage         174104 non-null  int64  \n",
      " 39  Windshield Strike     174104 non-null  int64  \n",
      " 40  Windshield Damage     174104 non-null  int64  \n",
      " 41  Nose Strike           174104 non-null  int64  \n",
      " 42  Nose Damage           174104 non-null  int64  \n",
      " 43  Engine1 Strike        174104 non-null  int64  \n",
      " 44  Engine1 Damage        174104 non-null  int64  \n",
      " 45  Engine2 Strike        174104 non-null  int64  \n",
      " 46  Engine2 Damage        174104 non-null  int64  \n",
      " 47  Engine3 Strike        174104 non-null  int64  \n",
      " 48  Engine3 Damage        174104 non-null  int64  \n",
      " 49  Engine4 Strike        174104 non-null  int64  \n",
      " 50  Engine4 Damage        174104 non-null  int64  \n",
      " 51  Engine Ingested       174104 non-null  int64  \n",
      " 52  Propeller Strike      174104 non-null  int64  \n",
      " 53  Propeller Damage      174104 non-null  int64  \n",
      " 54  Wing or Rotor Strike  174104 non-null  int64  \n",
      " 55  Wing or Rotor Damage  174104 non-null  int64  \n",
      " 56  Fuselage Strike       174104 non-null  int64  \n",
      " 57  Fuselage Damage       174104 non-null  int64  \n",
      " 58  Landing Gear Strike   174104 non-null  int64  \n",
      " 59  Landing Gear Damage   174104 non-null  int64  \n",
      " 60  Tail Strike           174104 non-null  int64  \n",
      " 61  Tail Damage           174104 non-null  int64  \n",
      " 62  Lights Strike         174104 non-null  int64  \n",
      " 63  Lights Damage         174104 non-null  int64  \n",
      " 64  Other Strike          174104 non-null  int64  \n",
      " 65  Other Damage          174104 non-null  int64  \n",
      "dtypes: float64(10), int64(34), object(22)\n",
      "memory usage: 87.7+ MB\n"
     ]
    }
   ],
=======
   "execution_count": null,
   "metadata": {},
   "outputs": [],
>>>>>>> main
   "source": [
    "file_path = 'Data/database.csv'\n",
    "df = pd.read_csv(file_path, low_memory=False)  #low memory imput to avoid warning message\n",
    "df.info()\n",
    "# column notes:\n",
    "# Species Quantity values: '1', '2-10', nan, '11-100', 'Over 100' "
   ]
  },
  {
   "cell_type": "code",
<<<<<<< HEAD
   "execution_count": 3,
=======
   "execution_count": null,
>>>>>>> main
   "metadata": {},
   "outputs": [],
   "source": [
    "subset_df = df[[\"Incident Year\",\"Incident Month\",\"Airport\",\"Airport ID\", \"State\",\"Aircraft\",\"Aircraft Type\", \"Flight Phase\", \"Species Name\",\"Species ID\",\"Species Quantity\"]]\n",
    "subset_df.to_csv(\"Data/data_subset.csv\")"
   ]
  },
  {
   "cell_type": "markdown",
   "metadata": {},
   "source": [
    "# Which bird is the most dangerous 1990-2014?"
   ]
  },
  {
   "cell_type": "code",
<<<<<<< HEAD
   "execution_count": 4,
   "metadata": {},
   "outputs": [
    {
     "data": {
      "image/png": "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\n",
      "text/plain": [
       "<Figure size 720x360 with 1 Axes>"
      ]
     },
     "metadata": {
      "needs_background": "light"
     },
     "output_type": "display_data"
    }
   ],
=======
   "execution_count": null,
   "metadata": {},
   "outputs": [],
>>>>>>> main
   "source": [
    "#removing \"unknown\" bird species, removing partial year data for 2015\n",
    "birdType_df = subset_df[[\"Species Name\",\"Species ID\",\"Species Quantity\"]].loc[(subset_df[\"Species Name\"]!= \"UNKNOWN MEDIUM BIRD\") & (subset_df[\"Species Name\"]!= \"UNKNOWN SMALL BIRD\") \n",
    "                                                                              & (subset_df[\"Species Name\"]!= \"UNKNOWN LARGE BIRD\") & (subset_df[\"Species Name\"]!= \"UNKNOWN BIRD\")\n",
    "                                                                              & (subset_df[\"Incident Year\"]!= 2015)]\n",
    "\n",
    "\n",
    "# todo add labels, pretty up.  add thoughts on results\n",
    "birdCounts = birdType_df[\"Species Name\"].value_counts()\n",
<<<<<<< HEAD
    "\n",
=======
    "tick_locations = [value for value in x_axis]\n",
>>>>>>> main
    "y_axis = birdCounts[:10]  \n",
    "x_axis = birdCounts.index[:10]\n",
    "\n",
    "plt.figure(figsize=(10,5))\n",
    "plt.bar(x_axis, y_axis, color = \"green\")\n",
    "plt.tight_layout()  \n",
<<<<<<< HEAD
    "tick_locations = [value for value in x_axis]\n",
=======
>>>>>>> main
    "plt.xticks(tick_locations,birdCounts.index[:10], rotation=\"vertical\")\n",
    "\n",
    "plt.show()\n"
   ]
  },
  {
   "cell_type": "code",
   "execution_count": null,
   "metadata": {
    "scrolled": true
   },
   "outputs": [],
   "source": []
  },
  {
   "cell_type": "code",
   "execution_count": null,
   "metadata": {},
   "outputs": [],
   "source": []
  },
  {
   "cell_type": "code",
   "execution_count": null,
   "metadata": {},
   "outputs": [],
   "source": []
  },
  {
   "cell_type": "code",
<<<<<<< HEAD
   "execution_count": 5,
=======
   "execution_count": null,
>>>>>>> main
   "metadata": {},
   "outputs": [],
   "source": [
    "# Jag's \\/\\/\\/"
   ]
  },
  {
   "cell_type": "code",
<<<<<<< HEAD
   "execution_count": 6,
=======
   "execution_count": null,
>>>>>>> main
   "metadata": {},
   "outputs": [],
   "source": [
    "# Jag's ^^^"
   ]
  },
  {
   "cell_type": "code",
<<<<<<< HEAD
   "execution_count": 7,
=======
   "execution_count": null,
>>>>>>> main
   "metadata": {},
   "outputs": [],
   "source": [
    "# Molly \\/\\/\\/"
   ]
  },
  {
   "cell_type": "code",
<<<<<<< HEAD
   "execution_count": 8,
=======
   "execution_count": null,
>>>>>>> main
   "metadata": {},
   "outputs": [],
   "source": [
    "# Molly ^^^"
   ]
  },
  {
   "cell_type": "code",
<<<<<<< HEAD
   "execution_count": 9,
=======
   "execution_count": null,
>>>>>>> main
   "metadata": {},
   "outputs": [],
   "source": [
    "# Selom \\/\\/\\/"
   ]
  },
  {
   "cell_type": "code",
<<<<<<< HEAD
   "execution_count": 10,
=======
   "execution_count": null,
>>>>>>> main
   "metadata": {},
   "outputs": [],
   "source": [
    "# Selom ^^^"
   ]
  },
  {
   "cell_type": "code",
<<<<<<< HEAD
   "execution_count": 11,
=======
   "execution_count": null,
>>>>>>> main
   "metadata": {},
   "outputs": [],
   "source": [
    "# Alyssa  \\/\\/\\/"
   ]
  },
  {
   "cell_type": "code",
<<<<<<< HEAD
   "execution_count": 12,
=======
   "execution_count": null,
>>>>>>> main
   "metadata": {},
   "outputs": [],
   "source": [
    "# Alyssa ^^^"
   ]
  }
 ],
 "metadata": {
  "kernelspec": {
   "display_name": "Python 3",
   "language": "python",
   "name": "python3"
  },
  "language_info": {
   "codemirror_mode": {
    "name": "ipython",
    "version": 3
   },
   "file_extension": ".py",
   "mimetype": "text/x-python",
   "name": "python",
   "nbconvert_exporter": "python",
   "pygments_lexer": "ipython3",
   "version": "3.6.10"
  }
 },
 "nbformat": 4,
 "nbformat_minor": 2
}
